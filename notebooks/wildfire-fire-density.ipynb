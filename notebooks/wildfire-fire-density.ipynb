{
 "cells": [
  {
   "cell_type": "markdown",
   "metadata": {},
   "source": [
    "# CA Watersheds: Fire Density 1992-2020"
   ]
  },
  {
   "cell_type": "code",
   "execution_count": 3,
   "metadata": {},
   "outputs": [
    {
     "data": {
      "application/javascript": "(function(root) {\n  function now() {\n    return new Date();\n  }\n\n  var force = true;\n  var py_version = '3.2.2'.replace('rc', '-rc.').replace('.dev', '-dev.');\n  var is_dev = py_version.indexOf(\"+\") !== -1 || py_version.indexOf(\"-\") !== -1;\n  var reloading = false;\n  var Bokeh = root.Bokeh;\n  var bokeh_loaded = Bokeh != null && (Bokeh.version === py_version || (Bokeh.versions !== undefined && Bokeh.versions.has(py_version)));\n\n  if (typeof (root._bokeh_timeout) === \"undefined\" || force) {\n    root._bokeh_timeout = Date.now() + 5000;\n    root._bokeh_failed_load = false;\n  }\n\n  function run_callbacks() {\n    try {\n      root._bokeh_onload_callbacks.forEach(function(callback) {\n        if (callback != null)\n          callback();\n      });\n    } finally {\n      delete root._bokeh_onload_callbacks;\n    }\n    console.debug(\"Bokeh: all callbacks have finished\");\n  }\n\n  function load_libs(css_urls, js_urls, js_modules, js_exports, callback) {\n    if (css_urls == null) css_urls = [];\n    if (js_urls == null) js_urls = [];\n    if (js_modules == null) js_modules = [];\n    if (js_exports == null) js_exports = {};\n\n    root._bokeh_onload_callbacks.push(callback);\n\n    if (root._bokeh_is_loading > 0) {\n      console.debug(\"Bokeh: BokehJS is being loaded, scheduling callback at\", now());\n      return null;\n    }\n    if (js_urls.length === 0 && js_modules.length === 0 && Object.keys(js_exports).length === 0) {\n      run_callbacks();\n      return null;\n    }\n    if (!reloading) {\n      console.debug(\"Bokeh: BokehJS not loaded, scheduling load and callback at\", now());\n    }\n\n    function on_load() {\n      root._bokeh_is_loading--;\n      if (root._bokeh_is_loading === 0) {\n        console.debug(\"Bokeh: all BokehJS libraries/stylesheets loaded\");\n        run_callbacks()\n      }\n    }\n    window._bokeh_on_load = on_load\n\n    function on_error() {\n      console.error(\"failed to load \" + url);\n    }\n\n    var skip = [];\n    if (window.requirejs) {\n      window.requirejs.config({'packages': {}, 'paths': {'jspanel': 'https://cdn.jsdelivr.net/npm/jspanel4@4.12.0/dist/jspanel', 'jspanel-modal': 'https://cdn.jsdelivr.net/npm/jspanel4@4.12.0/dist/extensions/modal/jspanel.modal', 'jspanel-tooltip': 'https://cdn.jsdelivr.net/npm/jspanel4@4.12.0/dist/extensions/tooltip/jspanel.tooltip', 'jspanel-hint': 'https://cdn.jsdelivr.net/npm/jspanel4@4.12.0/dist/extensions/hint/jspanel.hint', 'jspanel-layout': 'https://cdn.jsdelivr.net/npm/jspanel4@4.12.0/dist/extensions/layout/jspanel.layout', 'jspanel-contextmenu': 'https://cdn.jsdelivr.net/npm/jspanel4@4.12.0/dist/extensions/contextmenu/jspanel.contextmenu', 'jspanel-dock': 'https://cdn.jsdelivr.net/npm/jspanel4@4.12.0/dist/extensions/dock/jspanel.dock', 'gridstack': 'https://cdn.jsdelivr.net/npm/gridstack@7.2.3/dist/gridstack-all', 'notyf': 'https://cdn.jsdelivr.net/npm/notyf@3/notyf.min'}, 'shim': {'jspanel': {'exports': 'jsPanel'}, 'gridstack': {'exports': 'GridStack'}}});\n      require([\"jspanel\"], function(jsPanel) {\n\twindow.jsPanel = jsPanel\n\ton_load()\n      })\n      require([\"jspanel-modal\"], function() {\n\ton_load()\n      })\n      require([\"jspanel-tooltip\"], function() {\n\ton_load()\n      })\n      require([\"jspanel-hint\"], function() {\n\ton_load()\n      })\n      require([\"jspanel-layout\"], function() {\n\ton_load()\n      })\n      require([\"jspanel-contextmenu\"], function() {\n\ton_load()\n      })\n      require([\"jspanel-dock\"], function() {\n\ton_load()\n      })\n      require([\"gridstack\"], function(GridStack) {\n\twindow.GridStack = GridStack\n\ton_load()\n      })\n      require([\"notyf\"], function() {\n\ton_load()\n      })\n      root._bokeh_is_loading = css_urls.length + 9;\n    } else {\n      root._bokeh_is_loading = css_urls.length + js_urls.length + js_modules.length + Object.keys(js_exports).length;\n    }\n\n    var existing_stylesheets = []\n    var links = document.getElementsByTagName('link')\n    for (var i = 0; i < links.length; i++) {\n      var link = links[i]\n      if (link.href != null) {\n\texisting_stylesheets.push(link.href)\n      }\n    }\n    for (var i = 0; i < css_urls.length; i++) {\n      var url = css_urls[i];\n      if (existing_stylesheets.indexOf(url) !== -1) {\n\ton_load()\n\tcontinue;\n      }\n      const element = document.createElement(\"link\");\n      element.onload = on_load;\n      element.onerror = on_error;\n      element.rel = \"stylesheet\";\n      element.type = \"text/css\";\n      element.href = url;\n      console.debug(\"Bokeh: injecting link tag for BokehJS stylesheet: \", url);\n      document.body.appendChild(element);\n    }    if (((window['jsPanel'] !== undefined) && (!(window['jsPanel'] instanceof HTMLElement))) || window.requirejs) {\n      var urls = ['https://cdn.holoviz.org/panel/1.2.3/dist/bundled/floatpanel/jspanel4@4.12.0/dist/jspanel.js', 'https://cdn.holoviz.org/panel/1.2.3/dist/bundled/floatpanel/jspanel4@4.12.0/dist/extensions/modal/jspanel.modal.js', 'https://cdn.holoviz.org/panel/1.2.3/dist/bundled/floatpanel/jspanel4@4.12.0/dist/extensions/tooltip/jspanel.tooltip.js', 'https://cdn.holoviz.org/panel/1.2.3/dist/bundled/floatpanel/jspanel4@4.12.0/dist/extensions/hint/jspanel.hint.js', 'https://cdn.holoviz.org/panel/1.2.3/dist/bundled/floatpanel/jspanel4@4.12.0/dist/extensions/layout/jspanel.layout.js', 'https://cdn.holoviz.org/panel/1.2.3/dist/bundled/floatpanel/jspanel4@4.12.0/dist/extensions/contextmenu/jspanel.contextmenu.js', 'https://cdn.holoviz.org/panel/1.2.3/dist/bundled/floatpanel/jspanel4@4.12.0/dist/extensions/dock/jspanel.dock.js'];\n      for (var i = 0; i < urls.length; i++) {\n        skip.push(urls[i])\n      }\n    }    if (((window['GridStack'] !== undefined) && (!(window['GridStack'] instanceof HTMLElement))) || window.requirejs) {\n      var urls = ['https://cdn.holoviz.org/panel/1.2.3/dist/bundled/gridstack/gridstack@7.2.3/dist/gridstack-all.js'];\n      for (var i = 0; i < urls.length; i++) {\n        skip.push(urls[i])\n      }\n    }    if (((window['Notyf'] !== undefined) && (!(window['Notyf'] instanceof HTMLElement))) || window.requirejs) {\n      var urls = ['https://cdn.holoviz.org/panel/1.2.3/dist/bundled/notificationarea/notyf@3/notyf.min.js'];\n      for (var i = 0; i < urls.length; i++) {\n        skip.push(urls[i])\n      }\n    }    var existing_scripts = []\n    var scripts = document.getElementsByTagName('script')\n    for (var i = 0; i < scripts.length; i++) {\n      var script = scripts[i]\n      if (script.src != null) {\n\texisting_scripts.push(script.src)\n      }\n    }\n    for (var i = 0; i < js_urls.length; i++) {\n      var url = js_urls[i];\n      if (skip.indexOf(url) !== -1 || existing_scripts.indexOf(url) !== -1) {\n\tif (!window.requirejs) {\n\t  on_load();\n\t}\n\tcontinue;\n      }\n      var element = document.createElement('script');\n      element.onload = on_load;\n      element.onerror = on_error;\n      element.async = false;\n      element.src = url;\n      console.debug(\"Bokeh: injecting script tag for BokehJS library: \", url);\n      document.head.appendChild(element);\n    }\n    for (var i = 0; i < js_modules.length; i++) {\n      var url = js_modules[i];\n      if (skip.indexOf(url) !== -1 || existing_scripts.indexOf(url) !== -1) {\n\tif (!window.requirejs) {\n\t  on_load();\n\t}\n\tcontinue;\n      }\n      var element = document.createElement('script');\n      element.onload = on_load;\n      element.onerror = on_error;\n      element.async = false;\n      element.src = url;\n      element.type = \"module\";\n      console.debug(\"Bokeh: injecting script tag for BokehJS library: \", url);\n      document.head.appendChild(element);\n    }\n    for (const name in js_exports) {\n      var url = js_exports[name];\n      if (skip.indexOf(url) >= 0 || root[name] != null) {\n\tif (!window.requirejs) {\n\t  on_load();\n\t}\n\tcontinue;\n      }\n      var element = document.createElement('script');\n      element.onerror = on_error;\n      element.async = false;\n      element.type = \"module\";\n      console.debug(\"Bokeh: injecting script tag for BokehJS library: \", url);\n      element.textContent = `\n      import ${name} from \"${url}\"\n      window.${name} = ${name}\n      window._bokeh_on_load()\n      `\n      document.head.appendChild(element);\n    }\n    if (!js_urls.length && !js_modules.length) {\n      on_load()\n    }\n  };\n\n  function inject_raw_css(css) {\n    const element = document.createElement(\"style\");\n    element.appendChild(document.createTextNode(css));\n    document.body.appendChild(element);\n  }\n\n  var js_urls = [\"https://cdn.bokeh.org/bokeh/release/bokeh-3.2.2.min.js\", \"https://cdn.bokeh.org/bokeh/release/bokeh-gl-3.2.2.min.js\", \"https://cdn.bokeh.org/bokeh/release/bokeh-widgets-3.2.2.min.js\", \"https://cdn.bokeh.org/bokeh/release/bokeh-tables-3.2.2.min.js\", \"https://cdn.holoviz.org/panel/1.2.3/dist/panel.min.js\", \"https://cdn.jsdelivr.net/npm/@holoviz/geoviews@1.10.1/dist/geoviews.min.js\"];\n  var js_modules = [];\n  var js_exports = {};\n  var css_urls = [];\n  var inline_js = [    function(Bokeh) {\n      Bokeh.set_log_level(\"info\");\n    },\nfunction(Bokeh) {} // ensure no trailing comma for IE\n  ];\n\n  function run_inline_js() {\n    if ((root.Bokeh !== undefined) || (force === true)) {\n      for (var i = 0; i < inline_js.length; i++) {\n        inline_js[i].call(root, root.Bokeh);\n      }\n      // Cache old bokeh versions\n      if (Bokeh != undefined && !reloading) {\n\tvar NewBokeh = root.Bokeh;\n\tif (Bokeh.versions === undefined) {\n\t  Bokeh.versions = new Map();\n\t}\n\tif (NewBokeh.version !== Bokeh.version) {\n\t  Bokeh.versions.set(NewBokeh.version, NewBokeh)\n\t}\n\troot.Bokeh = Bokeh;\n      }} else if (Date.now() < root._bokeh_timeout) {\n      setTimeout(run_inline_js, 100);\n    } else if (!root._bokeh_failed_load) {\n      console.log(\"Bokeh: BokehJS failed to load within specified timeout.\");\n      root._bokeh_failed_load = true;\n    }\n    root._bokeh_is_initializing = false\n  }\n\n  function load_or_wait() {\n    // Implement a backoff loop that tries to ensure we do not load multiple\n    // versions of Bokeh and its dependencies at the same time.\n    // In recent versions we use the root._bokeh_is_initializing flag\n    // to determine whether there is an ongoing attempt to initialize\n    // bokeh, however for backward compatibility we also try to ensure\n    // that we do not start loading a newer (Panel>=1.0 and Bokeh>3) version\n    // before older versions are fully initialized.\n    if (root._bokeh_is_initializing && Date.now() > root._bokeh_timeout) {\n      root._bokeh_is_initializing = false;\n      root._bokeh_onload_callbacks = undefined;\n      console.log(\"Bokeh: BokehJS was loaded multiple times but one version failed to initialize.\");\n      load_or_wait();\n    } else if (root._bokeh_is_initializing || (typeof root._bokeh_is_initializing === \"undefined\" && root._bokeh_onload_callbacks !== undefined)) {\n      setTimeout(load_or_wait, 100);\n    } else {\n      Bokeh = root.Bokeh;\n      bokeh_loaded = Bokeh != null && (Bokeh.version === py_version || (Bokeh.versions !== undefined && Bokeh.versions.has(py_version)));\n      root._bokeh_is_initializing = true\n      root._bokeh_onload_callbacks = []\n      if (!reloading && (!bokeh_loaded || is_dev)) {\n\troot.Bokeh = undefined;\n      }\n      load_libs(css_urls, js_urls, js_modules, js_exports, function() {\n\tconsole.debug(\"Bokeh: BokehJS plotting callback run at\", now());\n\trun_inline_js();\n      });\n    }\n  }\n  // Give older versions of the autoload script a head-start to ensure\n  // they initialize before we start loading newer version.\n  setTimeout(load_or_wait, 100)\n}(window));",
      "application/vnd.holoviews_load.v0+json": ""
     },
     "metadata": {},
     "output_type": "display_data"
    },
    {
     "data": {
      "application/javascript": "\nif ((window.PyViz === undefined) || (window.PyViz instanceof HTMLElement)) {\n  window.PyViz = {comms: {}, comm_status:{}, kernels:{}, receivers: {}, plot_index: []}\n}\n\n\n    function JupyterCommManager() {\n    }\n\n    JupyterCommManager.prototype.register_target = function(plot_id, comm_id, msg_handler) {\n      if (window.comm_manager || ((window.Jupyter !== undefined) && (Jupyter.notebook.kernel != null))) {\n        var comm_manager = window.comm_manager || Jupyter.notebook.kernel.comm_manager;\n        comm_manager.register_target(comm_id, function(comm) {\n          comm.on_msg(msg_handler);\n        });\n      } else if ((plot_id in window.PyViz.kernels) && (window.PyViz.kernels[plot_id])) {\n        window.PyViz.kernels[plot_id].registerCommTarget(comm_id, function(comm) {\n          comm.onMsg = msg_handler;\n        });\n      } else if (typeof google != 'undefined' && google.colab.kernel != null) {\n        google.colab.kernel.comms.registerTarget(comm_id, (comm) => {\n          var messages = comm.messages[Symbol.asyncIterator]();\n          function processIteratorResult(result) {\n            var message = result.value;\n            console.log(message)\n            var content = {data: message.data, comm_id};\n            var buffers = []\n            for (var buffer of message.buffers || []) {\n              buffers.push(new DataView(buffer))\n            }\n            var metadata = message.metadata || {};\n            var msg = {content, buffers, metadata}\n            msg_handler(msg);\n            return messages.next().then(processIteratorResult);\n          }\n          return messages.next().then(processIteratorResult);\n        })\n      }\n    }\n\n    JupyterCommManager.prototype.get_client_comm = function(plot_id, comm_id, msg_handler) {\n      if (comm_id in window.PyViz.comms) {\n        return window.PyViz.comms[comm_id];\n      } else if (window.comm_manager || ((window.Jupyter !== undefined) && (Jupyter.notebook.kernel != null))) {\n        var comm_manager = window.comm_manager || Jupyter.notebook.kernel.comm_manager;\n        var comm = comm_manager.new_comm(comm_id, {}, {}, {}, comm_id);\n        if (msg_handler) {\n          comm.on_msg(msg_handler);\n        }\n      } else if ((plot_id in window.PyViz.kernels) && (window.PyViz.kernels[plot_id])) {\n        var comm = window.PyViz.kernels[plot_id].connectToComm(comm_id);\n        comm.open();\n        if (msg_handler) {\n          comm.onMsg = msg_handler;\n        }\n      } else if (typeof google != 'undefined' && google.colab.kernel != null) {\n        var comm_promise = google.colab.kernel.comms.open(comm_id)\n        comm_promise.then((comm) => {\n          window.PyViz.comms[comm_id] = comm;\n          if (msg_handler) {\n            var messages = comm.messages[Symbol.asyncIterator]();\n            function processIteratorResult(result) {\n              var message = result.value;\n              var content = {data: message.data};\n              var metadata = message.metadata || {comm_id};\n              var msg = {content, metadata}\n              msg_handler(msg);\n              return messages.next().then(processIteratorResult);\n            }\n            return messages.next().then(processIteratorResult);\n          }\n        }) \n        var sendClosure = (data, metadata, buffers, disposeOnDone) => {\n          return comm_promise.then((comm) => {\n            comm.send(data, metadata, buffers, disposeOnDone);\n          });\n        };\n        var comm = {\n          send: sendClosure\n        };\n      }\n      window.PyViz.comms[comm_id] = comm;\n      return comm;\n    }\n    window.PyViz.comm_manager = new JupyterCommManager();\n    \n\n\nvar JS_MIME_TYPE = 'application/javascript';\nvar HTML_MIME_TYPE = 'text/html';\nvar EXEC_MIME_TYPE = 'application/vnd.holoviews_exec.v0+json';\nvar CLASS_NAME = 'output';\n\n/**\n * Render data to the DOM node\n */\nfunction render(props, node) {\n  var div = document.createElement(\"div\");\n  var script = document.createElement(\"script\");\n  node.appendChild(div);\n  node.appendChild(script);\n}\n\n/**\n * Handle when a new output is added\n */\nfunction handle_add_output(event, handle) {\n  var output_area = handle.output_area;\n  var output = handle.output;\n  if ((output.data == undefined) || (!output.data.hasOwnProperty(EXEC_MIME_TYPE))) {\n    return\n  }\n  var id = output.metadata[EXEC_MIME_TYPE][\"id\"];\n  var toinsert = output_area.element.find(\".\" + CLASS_NAME.split(' ')[0]);\n  if (id !== undefined) {\n    var nchildren = toinsert.length;\n    var html_node = toinsert[nchildren-1].children[0];\n    html_node.innerHTML = output.data[HTML_MIME_TYPE];\n    var scripts = [];\n    var nodelist = html_node.querySelectorAll(\"script\");\n    for (var i in nodelist) {\n      if (nodelist.hasOwnProperty(i)) {\n        scripts.push(nodelist[i])\n      }\n    }\n\n    scripts.forEach( function (oldScript) {\n      var newScript = document.createElement(\"script\");\n      var attrs = [];\n      var nodemap = oldScript.attributes;\n      for (var j in nodemap) {\n        if (nodemap.hasOwnProperty(j)) {\n          attrs.push(nodemap[j])\n        }\n      }\n      attrs.forEach(function(attr) { newScript.setAttribute(attr.name, attr.value) });\n      newScript.appendChild(document.createTextNode(oldScript.innerHTML));\n      oldScript.parentNode.replaceChild(newScript, oldScript);\n    });\n    if (JS_MIME_TYPE in output.data) {\n      toinsert[nchildren-1].children[1].textContent = output.data[JS_MIME_TYPE];\n    }\n    output_area._hv_plot_id = id;\n    if ((window.Bokeh !== undefined) && (id in Bokeh.index)) {\n      window.PyViz.plot_index[id] = Bokeh.index[id];\n    } else {\n      window.PyViz.plot_index[id] = null;\n    }\n  } else if (output.metadata[EXEC_MIME_TYPE][\"server_id\"] !== undefined) {\n    var bk_div = document.createElement(\"div\");\n    bk_div.innerHTML = output.data[HTML_MIME_TYPE];\n    var script_attrs = bk_div.children[0].attributes;\n    for (var i = 0; i < script_attrs.length; i++) {\n      toinsert[toinsert.length - 1].childNodes[1].setAttribute(script_attrs[i].name, script_attrs[i].value);\n    }\n    // store reference to server id on output_area\n    output_area._bokeh_server_id = output.metadata[EXEC_MIME_TYPE][\"server_id\"];\n  }\n}\n\n/**\n * Handle when an output is cleared or removed\n */\nfunction handle_clear_output(event, handle) {\n  var id = handle.cell.output_area._hv_plot_id;\n  var server_id = handle.cell.output_area._bokeh_server_id;\n  if (((id === undefined) || !(id in PyViz.plot_index)) && (server_id !== undefined)) { return; }\n  var comm = window.PyViz.comm_manager.get_client_comm(\"hv-extension-comm\", \"hv-extension-comm\", function () {});\n  if (server_id !== null) {\n    comm.send({event_type: 'server_delete', 'id': server_id});\n    return;\n  } else if (comm !== null) {\n    comm.send({event_type: 'delete', 'id': id});\n  }\n  delete PyViz.plot_index[id];\n  if ((window.Bokeh !== undefined) & (id in window.Bokeh.index)) {\n    var doc = window.Bokeh.index[id].model.document\n    doc.clear();\n    const i = window.Bokeh.documents.indexOf(doc);\n    if (i > -1) {\n      window.Bokeh.documents.splice(i, 1);\n    }\n  }\n}\n\n/**\n * Handle kernel restart event\n */\nfunction handle_kernel_cleanup(event, handle) {\n  delete PyViz.comms[\"hv-extension-comm\"];\n  window.PyViz.plot_index = {}\n}\n\n/**\n * Handle update_display_data messages\n */\nfunction handle_update_output(event, handle) {\n  handle_clear_output(event, {cell: {output_area: handle.output_area}})\n  handle_add_output(event, handle)\n}\n\nfunction register_renderer(events, OutputArea) {\n  function append_mime(data, metadata, element) {\n    // create a DOM node to render to\n    var toinsert = this.create_output_subarea(\n    metadata,\n    CLASS_NAME,\n    EXEC_MIME_TYPE\n    );\n    this.keyboard_manager.register_events(toinsert);\n    // Render to node\n    var props = {data: data, metadata: metadata[EXEC_MIME_TYPE]};\n    render(props, toinsert[0]);\n    element.append(toinsert);\n    return toinsert\n  }\n\n  events.on('output_added.OutputArea', handle_add_output);\n  events.on('output_updated.OutputArea', handle_update_output);\n  events.on('clear_output.CodeCell', handle_clear_output);\n  events.on('delete.Cell', handle_clear_output);\n  events.on('kernel_ready.Kernel', handle_kernel_cleanup);\n\n  OutputArea.prototype.register_mime_type(EXEC_MIME_TYPE, append_mime, {\n    safe: true,\n    index: 0\n  });\n}\n\nif (window.Jupyter !== undefined) {\n  try {\n    var events = require('base/js/events');\n    var OutputArea = require('notebook/js/outputarea').OutputArea;\n    if (OutputArea.prototype.mime_types().indexOf(EXEC_MIME_TYPE) == -1) {\n      register_renderer(events, OutputArea);\n    }\n  } catch(err) {\n  }\n}\n",
      "application/vnd.holoviews_load.v0+json": ""
     },
     "metadata": {},
     "output_type": "display_data"
    },
    {
     "data": {
      "text/html": [
       "<style>*[data-root-id],\n",
       "*[data-root-id] > * {\n",
       "  box-sizing: border-box;\n",
       "  font-family: var(--jp-ui-font-family);\n",
       "  font-size: var(--jp-ui-font-size1);\n",
       "  color: var(--vscode-editor-foreground, var(--jp-ui-font-color1));\n",
       "}\n",
       "\n",
       "/* Override VSCode background color */\n",
       ".cell-output-ipywidget-background:has(\n",
       "    > .cell-output-ipywidget-background > .lm-Widget > *[data-root-id]\n",
       "  ),\n",
       ".cell-output-ipywidget-background:has(> .lm-Widget > *[data-root-id]) {\n",
       "  background-color: transparent !important;\n",
       "}\n",
       "</style>"
      ]
     },
     "metadata": {},
     "output_type": "display_data"
    }
   ],
   "source": [
    "import os\n",
    "import warnings\n",
    "\n",
    "import earthpy as et\n",
    "import geopandas as gpd\n",
    "import geoviews as gv\n",
    "import holoviews as hv\n",
    "import hvplot.pandas\n",
    "import pandas as pd\n",
    "import pyogrio\n",
    "\n",
    "\n",
    "# Ignore FutureWarning coming from hvplot\n",
    "warnings.simplefilter(action='ignore', category=FutureWarning)\n",
    "warnings.filterwarnings('ignore')"
   ]
  },
  {
   "cell_type": "code",
   "execution_count": 4,
   "metadata": {},
   "outputs": [],
   "source": [
    "wbd_national_gdb_url = ('https://prd-tnm.s3.amazonaws.com'\n",
    "                        '/StagedProducts/Hydrography/WBD'\n",
    "                        '/National/GDB/WBD_National_GDB.zip')\n",
    "wbd_dir = et.data.get_data(url=wbd_national_gdb_url)\n",
    "# wbd_dir"
   ]
  },
  {
   "cell_type": "code",
   "execution_count": 5,
   "metadata": {},
   "outputs": [],
   "source": [
    "wbd_path = os.path.join(wbd_dir, 'WBD_National_GDB.gdb')\n",
    "# wbd_path"
   ]
  },
  {
   "cell_type": "code",
   "execution_count": 6,
   "metadata": {},
   "outputs": [],
   "source": [
    "# import fiona\n",
    "\n",
    "# fiona.listlayers(f'{wbd_path}')"
   ]
  },
  {
   "cell_type": "code",
   "execution_count": 7,
   "metadata": {},
   "outputs": [],
   "source": [
    "wbd_path = os.path.join(wbd_dir, 'WBD_National_GDB.gdb')\n",
    "wbd_gdf = gpd.read_file(wbd_path, driver='OpenFileGBD', layer='WBDHU4', from_disk=True)"
   ]
  },
  {
   "cell_type": "code",
   "execution_count": 8,
   "metadata": {},
   "outputs": [],
   "source": [
    "wbd_gdf['states'] = wbd_gdf['states'].fillna('NULL')"
   ]
  },
  {
   "cell_type": "code",
   "execution_count": 9,
   "metadata": {},
   "outputs": [],
   "source": [
    "ca_wbd_gdf = wbd_gdf[wbd_gdf['states'].str.contains('CA')]\n",
    "# ca_wbd_gdf"
   ]
  },
  {
   "cell_type": "code",
   "execution_count": 10,
   "metadata": {},
   "outputs": [],
   "source": [
    "usa_fire_url = (\n",
    "    'https://www.fs.usda.gov'\n",
    "    '/rds/archive/products/RDS-2013-0009.6'\n",
    "    '/RDS-2013-0009.6_Data_Format2_GDB.zip'\n",
    ")\n",
    "fire_dir = et.data.get_data(url=usa_fire_url)\n",
    "# fire_dir"
   ]
  },
  {
   "cell_type": "code",
   "execution_count": 11,
   "metadata": {},
   "outputs": [],
   "source": [
    "fire_path = os.path.join(fire_dir, 'Data', 'FPA_FOD_20221014.gdb')\n",
    "if not 'fire_gdf' in globals():\n",
    "    fire_gdf = pyogrio.read_dataframe(fire_path, layer='Fires')\n",
    "# fire_gdf.head()"
   ]
  },
  {
   "cell_type": "code",
   "execution_count": 12,
   "metadata": {},
   "outputs": [],
   "source": [
    "fire_gdf['STATE'] = fire_gdf['STATE'].fillna('NULL')\n",
    "fire_gdf = fire_gdf[fire_gdf['STATE'].str.contains('CA')]\n",
    "# fire_gdf"
   ]
  },
  {
   "cell_type": "code",
   "execution_count": 13,
   "metadata": {},
   "outputs": [],
   "source": [
    "fire_clean_gdf = (\n",
    "    fire_gdf\n",
    "    [['FOD_ID', 'DISCOVERY_DATE', 'FIRE_SIZE', 'geometry']]\n",
    "    .set_index('FOD_ID')\n",
    ")\n",
    "fire_clean_gdf.DISCOVERY_DATE = pd.to_datetime(fire_clean_gdf.DISCOVERY_DATE)\n",
    "# print(fire_clean_gdf.crs)\n",
    "fire_clean_gdf = fire_clean_gdf.to_crs(wbd_gdf.crs)\n",
    "# print(fire_clean_gdf.crs)\n",
    "# fire_clean_gdf #.info()"
   ]
  },
  {
   "cell_type": "code",
   "execution_count": 14,
   "metadata": {},
   "outputs": [],
   "source": [
    "fire_region_gdf = (\n",
    "    wbd_gdf\n",
    "    [['name', 'geometry']]\n",
    "    .sjoin(fire_clean_gdf, how='inner', predicate='intersects')\n",
    ")\n",
    "fire_region_gdf = (\n",
    "    fire_region_gdf\n",
    "    .groupby(['name', fire_region_gdf.DISCOVERY_DATE.dt.year])\n",
    "    .agg(\n",
    "        max_fire_size=('FIRE_SIZE', 'max'), \n",
    "        num_fires=('index_right', 'count'))\n",
    ")\n",
    "# fire_region_gdf.num_fires.sum()\n",
    "# fire_region_gdf"
   ]
  },
  {
   "cell_type": "code",
   "execution_count": 15,
   "metadata": {},
   "outputs": [],
   "source": [
    "# fire_region_gdf.reset_index()['DISCOVERY_DATE'].sort_values().unique()"
   ]
  },
  {
   "cell_type": "code",
   "execution_count": 16,
   "metadata": {},
   "outputs": [
    {
     "data": {
      "text/html": [
       "<div>\n",
       "<style scoped>\n",
       "    .dataframe tbody tr th:only-of-type {\n",
       "        vertical-align: middle;\n",
       "    }\n",
       "\n",
       "    .dataframe tbody tr th {\n",
       "        vertical-align: top;\n",
       "    }\n",
       "\n",
       "    .dataframe thead th {\n",
       "        text-align: right;\n",
       "    }\n",
       "</style>\n",
       "<table border=\"1\" class=\"dataframe\">\n",
       "  <thead>\n",
       "    <tr style=\"text-align: right;\">\n",
       "      <th></th>\n",
       "      <th>fire_density_per_million_ha</th>\n",
       "    </tr>\n",
       "    <tr>\n",
       "      <th>name</th>\n",
       "      <th></th>\n",
       "    </tr>\n",
       "  </thead>\n",
       "  <tbody>\n",
       "    <tr>\n",
       "      <th>Southern California Coastal</th>\n",
       "      <td>12965.741336</td>\n",
       "    </tr>\n",
       "    <tr>\n",
       "      <th>San Joaquin</th>\n",
       "      <td>10325.877112</td>\n",
       "    </tr>\n",
       "    <tr>\n",
       "      <th>San Francisco Bay</th>\n",
       "      <td>8108.829374</td>\n",
       "    </tr>\n",
       "    <tr>\n",
       "      <th>Sacramento</th>\n",
       "      <td>7497.497194</td>\n",
       "    </tr>\n",
       "    <tr>\n",
       "      <th>Tulare-Buena Vista Lakes</th>\n",
       "      <td>5854.976782</td>\n",
       "    </tr>\n",
       "    <tr>\n",
       "      <th>Klamath-Northern California Coastal</th>\n",
       "      <td>4212.210558</td>\n",
       "    </tr>\n",
       "    <tr>\n",
       "      <th>Central California Coastal</th>\n",
       "      <td>4011.792797</td>\n",
       "    </tr>\n",
       "    <tr>\n",
       "      <th>North Lahontan</th>\n",
       "      <td>2471.083569</td>\n",
       "    </tr>\n",
       "    <tr>\n",
       "      <th>Southern Mojave-Salton Sea</th>\n",
       "      <td>2171.795968</td>\n",
       "    </tr>\n",
       "    <tr>\n",
       "      <th>Northern Mojave-Mono Lake</th>\n",
       "      <td>1440.222044</td>\n",
       "    </tr>\n",
       "    <tr>\n",
       "      <th>Central Lahontan</th>\n",
       "      <td>1152.221768</td>\n",
       "    </tr>\n",
       "    <tr>\n",
       "      <th>Lower Colorado</th>\n",
       "      <td>238.200159</td>\n",
       "    </tr>\n",
       "    <tr>\n",
       "      <th>Oregon-Washington Coastal</th>\n",
       "      <td>20.174109</td>\n",
       "    </tr>\n",
       "    <tr>\n",
       "      <th>Central Nevada Desert Basins</th>\n",
       "      <td>14.347734</td>\n",
       "    </tr>\n",
       "    <tr>\n",
       "      <th>Black Rock Desert-Humboldt</th>\n",
       "      <td>6.064822</td>\n",
       "    </tr>\n",
       "    <tr>\n",
       "      <th>Oregon Closed Basins</th>\n",
       "      <td>1.550347</td>\n",
       "    </tr>\n",
       "  </tbody>\n",
       "</table>\n",
       "</div>"
      ],
      "text/plain": [
       "                                     fire_density_per_million_ha\n",
       "name                                                            \n",
       "Southern California Coastal                         12965.741336\n",
       "San Joaquin                                         10325.877112\n",
       "San Francisco Bay                                    8108.829374\n",
       "Sacramento                                           7497.497194\n",
       "Tulare-Buena Vista Lakes                             5854.976782\n",
       "Klamath-Northern California Coastal                  4212.210558\n",
       "Central California Coastal                           4011.792797\n",
       "North Lahontan                                       2471.083569\n",
       "Southern Mojave-Salton Sea                           2171.795968\n",
       "Northern Mojave-Mono Lake                            1440.222044\n",
       "Central Lahontan                                     1152.221768\n",
       "Lower Colorado                                        238.200159\n",
       "Oregon-Washington Coastal                              20.174109\n",
       "Central Nevada Desert Basins                           14.347734\n",
       "Black Rock Desert-Humboldt                              6.064822\n",
       "Oregon Closed Basins                                    1.550347"
      ]
     },
     "execution_count": 16,
     "metadata": {},
     "output_type": "execute_result"
    }
   ],
   "source": [
    "# Compute the area of regional watersheds\n",
    "ca_wbd_gdf['area_ha'] = (\n",
    "                    ca_wbd_gdf.to_crs(epsg=9822).area \n",
    "                    # Convert to hectares\n",
    "                    / 10000\n",
    "                    # Convert to millions of hectares\n",
    "                    / 1000000\n",
    ")\n",
    "\n",
    "# Compute total fires in each watershed\n",
    "fire_count_df = (\n",
    "    fire_region_gdf\n",
    "    .reset_index()\n",
    "    [['name', 'num_fires']]\n",
    "    .groupby('name')\n",
    "    .sum())\n",
    "\n",
    "fire_density_gdf = (\n",
    "    ca_wbd_gdf\n",
    "    .set_index('name')\n",
    "    # Add the area and geometry back in\n",
    "    .join(fire_count_df)\n",
    "    [['num_fires', 'area_ha', 'geometry']]\n",
    ")\n",
    "\n",
    "# Compure fire density\n",
    "fire_density_gdf['fire_density_per_million_ha'] = (\n",
    "    fire_density_gdf.num_fires / fire_density_gdf.area_ha\n",
    ")\n",
    "\n",
    "fire_density_gdf[['fire_density_per_million_ha']].sort_values(by='fire_density_per_million_ha', ascending=False)"
   ]
  },
  {
   "cell_type": "markdown",
   "metadata": {},
   "source": [
    "## CA Watersheds: Fire Density Chloropleth Plot"
   ]
  },
  {
   "cell_type": "code",
   "execution_count": 17,
   "metadata": {},
   "outputs": [],
   "source": [
    "fire_density_gdf.geometry = fire_density_gdf.geometry.simplify(tolerance=.1)"
   ]
  },
  {
   "cell_type": "code",
   "execution_count": 23,
   "metadata": {},
   "outputs": [
    {
     "data": {},
     "metadata": {},
     "output_type": "display_data"
    },
    {
     "data": {
      "application/vnd.holoviews_exec.v0+json": "",
      "text/html": [
       "<div id='p1555'>\n",
       "  <div id=\"b5fb0ec3-a45c-4049-9638-84a40e74dd75\" data-root-id=\"p1555\" style=\"display: contents;\"></div>\n",
       "</div>\n",
       "<script type=\"application/javascript\">(function(root) {\n",
       "  var docs_json = {\"af157590-c845-4112-80cd-99418e5369d8\":{\"version\":\"3.2.2\",\"title\":\"Bokeh Application\",\"roots\":[{\"type\":\"object\",\"name\":\"Row\",\"id\":\"p1555\",\"attributes\":{\"name\":\"Row02379\",\"tags\":[\"embedded\"],\"stylesheets\":[\"\\n:host(.pn-loading.pn-arc):before, .pn-loading.pn-arc:before {\\n  background-image: url(\\\"data:image/svg+xml;base64,PHN2ZyB4bWxucz0iaHR0cDovL3d3dy53My5vcmcvMjAwMC9zdmciIHN0eWxlPSJtYXJnaW46IGF1dG87IGJhY2tncm91bmQ6IG5vbmU7IGRpc3BsYXk6IGJsb2NrOyBzaGFwZS1yZW5kZXJpbmc6IGF1dG87IiB2aWV3Qm94PSIwIDAgMTAwIDEwMCIgcHJlc2VydmVBc3BlY3RSYXRpbz0ieE1pZFlNaWQiPiAgPGNpcmNsZSBjeD0iNTAiIGN5PSI1MCIgZmlsbD0ibm9uZSIgc3Ryb2tlPSIjYzNjM2MzIiBzdHJva2Utd2lkdGg9IjEwIiByPSIzNSIgc3Ryb2tlLWRhc2hhcnJheT0iMTY0LjkzMzYxNDMxMzQ2NDE1IDU2Ljk3Nzg3MTQzNzgyMTM4Ij4gICAgPGFuaW1hdGVUcmFuc2Zvcm0gYXR0cmlidXRlTmFtZT0idHJhbnNmb3JtIiB0eXBlPSJyb3RhdGUiIHJlcGVhdENvdW50PSJpbmRlZmluaXRlIiBkdXI9IjFzIiB2YWx1ZXM9IjAgNTAgNTA7MzYwIDUwIDUwIiBrZXlUaW1lcz0iMDsxIj48L2FuaW1hdGVUcmFuc2Zvcm0+ICA8L2NpcmNsZT48L3N2Zz4=\\\");\\n  background-size: auto calc(min(50%, 400px));\\n}\",{\"type\":\"object\",\"name\":\"ImportedStyleSheet\",\"id\":\"p1558\",\"attributes\":{\"url\":\"https://cdn.holoviz.org/panel/1.2.3/dist/css/loading.css\"}},{\"type\":\"object\",\"name\":\"ImportedStyleSheet\",\"id\":\"p1639\",\"attributes\":{\"url\":\"https://cdn.holoviz.org/panel/1.2.3/dist/css/listpanel.css\"}},{\"type\":\"object\",\"name\":\"ImportedStyleSheet\",\"id\":\"p1556\",\"attributes\":{\"url\":\"https://cdn.holoviz.org/panel/1.2.3/dist/bundled/theme/default.css\"}},{\"type\":\"object\",\"name\":\"ImportedStyleSheet\",\"id\":\"p1557\",\"attributes\":{\"url\":\"https://cdn.holoviz.org/panel/1.2.3/dist/bundled/theme/native.css\"}}],\"min_width\":1000,\"margin\":0,\"sizing_mode\":\"stretch_width\",\"align\":\"start\",\"children\":[{\"type\":\"object\",\"name\":\"Spacer\",\"id\":\"p1559\",\"attributes\":{\"name\":\"HSpacer02389\",\"stylesheets\":[\"\\n:host(.pn-loading.pn-arc):before, .pn-loading.pn-arc:before {\\n  background-image: url(\\\"data:image/svg+xml;base64,PHN2ZyB4bWxucz0iaHR0cDovL3d3dy53My5vcmcvMjAwMC9zdmciIHN0eWxlPSJtYXJnaW46IGF1dG87IGJhY2tncm91bmQ6IG5vbmU7IGRpc3BsYXk6IGJsb2NrOyBzaGFwZS1yZW5kZXJpbmc6IGF1dG87IiB2aWV3Qm94PSIwIDAgMTAwIDEwMCIgcHJlc2VydmVBc3BlY3RSYXRpbz0ieE1pZFlNaWQiPiAgPGNpcmNsZSBjeD0iNTAiIGN5PSI1MCIgZmlsbD0ibm9uZSIgc3Ryb2tlPSIjYzNjM2MzIiBzdHJva2Utd2lkdGg9IjEwIiByPSIzNSIgc3Ryb2tlLWRhc2hhcnJheT0iMTY0LjkzMzYxNDMxMzQ2NDE1IDU2Ljk3Nzg3MTQzNzgyMTM4Ij4gICAgPGFuaW1hdGVUcmFuc2Zvcm0gYXR0cmlidXRlTmFtZT0idHJhbnNmb3JtIiB0eXBlPSJyb3RhdGUiIHJlcGVhdENvdW50PSJpbmRlZmluaXRlIiBkdXI9IjFzIiB2YWx1ZXM9IjAgNTAgNTA7MzYwIDUwIDUwIiBrZXlUaW1lcz0iMDsxIj48L2FuaW1hdGVUcmFuc2Zvcm0+ICA8L2NpcmNsZT48L3N2Zz4=\\\");\\n  background-size: auto calc(min(50%, 400px));\\n}\",{\"id\":\"p1558\"},{\"id\":\"p1556\"},{\"id\":\"p1557\"}],\"margin\":0,\"sizing_mode\":\"stretch_width\",\"align\":\"start\"}},{\"type\":\"object\",\"name\":\"Figure\",\"id\":\"p1580\",\"attributes\":{\"width\":1000,\"margin\":[5,10],\"sizing_mode\":\"fixed\",\"align\":\"start\",\"x_range\":{\"type\":\"object\",\"name\":\"Range1d\",\"id\":\"p1569\",\"attributes\":{\"tags\":[[[\"Longitude\",\"Longitude\",null]],[]],\"start\":-13974887.575484885,\"end\":-12447189.301303836,\"reset_start\":-13974887.575484885,\"reset_end\":-12447189.301303836,\"min_interval\":5}},\"y_range\":{\"type\":\"object\",\"name\":\"Range1d\",\"id\":\"p1570\",\"attributes\":{\"tags\":[[[\"Latitude\",\"Latitude\",null]],{\"type\":\"map\",\"entries\":[[\"invert_yaxis\",false],[\"autorange\",false]]}],\"start\":3451547.184144421,\"end\":6420090.563382921,\"reset_start\":3451547.184144421,\"reset_end\":6420090.563382921,\"min_interval\":5}},\"x_scale\":{\"type\":\"object\",\"name\":\"LinearScale\",\"id\":\"p1590\"},\"y_scale\":{\"type\":\"object\",\"name\":\"LinearScale\",\"id\":\"p1591\"},\"title\":{\"type\":\"object\",\"name\":\"Title\",\"id\":\"p1583\",\"attributes\":{\"text_color\":\"black\",\"text_font_size\":\"12pt\"}},\"renderers\":[{\"type\":\"object\",\"name\":\"TileRenderer\",\"id\":\"p1613\",\"attributes\":{\"level\":\"underlay\",\"tile_source\":{\"type\":\"object\",\"name\":\"WMTSTileSource\",\"id\":\"p1609\",\"attributes\":{\"url\":\"http://tile.stamen.com/terrain/{Z}/{X}/{Y}.png\",\"attribution\":\"Map tiles by <a href=\\\"https://stamen.com\\\">Stamen Design</a>, under <a href=\\\"https://creativecommons.org/licenses/by/3.0\\\">CC BY 3.0</a>. Data by <a href=\\\"https://openstreetmap.org\\\">OpenStreetMap</a>, under <a href=\\\"https://www.openstreetmap.org/copyright\\\">ODbL</a>.\"}}}},{\"type\":\"object\",\"name\":\"GlyphRenderer\",\"id\":\"p1627\",\"attributes\":{\"data_source\":{\"type\":\"object\",\"name\":\"ColumnDataSource\",\"id\":\"p1618\",\"attributes\":{\"selected\":{\"type\":\"object\",\"name\":\"Selection\",\"id\":\"p1619\",\"attributes\":{\"indices\":[],\"line_indices\":[]}},\"selection_policy\":{\"type\":\"object\",\"name\":\"UnionRenderers\",\"id\":\"p1620\"},\"data\":{\"type\":\"map\",\"entries\":[[\"xs\",[[[{\"type\":\"ndarray\",\"array\":{\"type\":\"bytes\",\"data\":\"JRELib7tacFH5bZDKcppwSKCVQjmyGnBHywPSQu+acE2LbOftr1pwZ20Pf/JrmnBJTd+9hSyacHghgbFXJppwecscuPqnmnBUDDO0xmIacF1c9nMeYZpwc28EJweT2nBtFEWUC1MacGDHanVT11pwQyu+fuNX2nBAoJ5X+mTacEsUnooLqBpwTwp6RQ9oGnBi5qwcjHlacElEQuJvu1pwQ==\"},\"shape\":[20],\"dtype\":\"float64\",\"order\":\"little\"}],[{\"type\":\"ndarray\",\"array\":{\"type\":\"bytes\",\"data\":\"92n1siuaacEJSmD6hGJpwQhRqjJSVGnBX3ydmWmBacE=\"},\"shape\":[4],\"dtype\":\"float64\",\"order\":\"little\"}]],[[{\"type\":\"ndarray\",\"array\":{\"type\":\"bytes\",\"data\":\"ZMFc9DJKacFv9mwkQCFpwRudlmNwDGnBs1HH3wjLaMFCKZRE+MZowXTVnCVG1WjBAEYf6FXAaMGQ9OWozcVowUPip9bCu2jB2UxC0vbBaMGFD5OCMpxowbrLV6MKvmjBABofNJnhaMEXIrG+9/VowVPBPyzME2nBPCpUFXImacFUSSh5USxpwcHjaQMbU2nBDK75+41facG5msCXr11pwWguWS8YUWnBZMFc9DJKacE=\"},\"shape\":[22],\"dtype\":\"float64\",\"order\":\"little\"}],[{\"type\":\"ndarray\",\"array\":{\"type\":\"bytes\",\"data\":\"cnLGTIgyacHcUbLoPB5pwSIUctR+HmnBYxHcE88racE=\"},\"shape\":[4],\"dtype\":\"float64\",\"order\":\"little\"}],[{\"type\":\"ndarray\",\"array\":{\"type\":\"bytes\",\"data\":\"NplsHYpmacFXGyec1lhpwVwgCWgsaGnBNplsHYpmacE=\"},\"shape\":[4],\"dtype\":\"float64\",\"order\":\"little\"}],[{\"type\":\"ndarray\",\"array\":{\"type\":\"bytes\",\"data\":\"6/JlvM9macGDM3GdV21pwfc7wR4wamnB6/JlvM9macE=\"},\"shape\":[4],\"dtype\":\"float64\",\"order\":\"little\"}],[{\"type\":\"ndarray\",\"array\":{\"type\":\"bytes\",\"data\":\"LyYlO/kxacFxx5R73R9pwbQPBVjFG2nBhsUfCGopacE=\"},\"shape\":[4],\"dtype\":\"float64\",\"order\":\"little\"}],[{\"type\":\"ndarray\",\"array\":{\"type\":\"bytes\",\"data\":\"MrjJsMVCacE1hjoiDkppwSJ/hWWnRGnBMrjJsMVCacE=\"},\"shape\":[4],\"dtype\":\"float64\",\"order\":\"little\"}]],[[{\"type\":\"ndarray\",\"array\":{\"type\":\"bytes\",\"data\":\"g3xK9jE3acHtUZG1OTVpwah9vWRFHmnBJ7AMgGkZacFtN/FCrudowfqJBL243GjB0R79FaTOaMFM12dNtcJowVa2r5hlrGjBmkRlNhmvaMF82Gl285towRfgnP4Vr2jBWEyUAM2baMHrZx5dJ4lowRVrxCeKimjB5AlG/pN/aMGj3QhZhotowRYeOtJQrGjBN9H0OKaxaMFIlIGIsbdowUqyj3Nn22jBBmMu3g7iaMFhRtnOg9FowXNZwoD622jBAKG2yyH2aMGYzRtvxQ1pwSul+HenH2nB/dV2NGg6acGowG3p8xppwfNzT9ssIGnBe3lF918WacEfiyqp3wxpwZoB4EKkJWnBcz+qjR8yacFkYO8QNDlpwfnMzLLcUmnBdh8IXv1UacGDfEr2MTdpwQ==\"},\"shape\":[38],\"dtype\":\"float64\",\"order\":\"little\"}]],[[{\"type\":\"ndarray\",\"array\":{\"type\":\"bytes\",\"data\":\"p9Q9bHYeasFXHCQ59SBqwTgsPR6kBmrBf/0nOUMJasE/Et6iT/dpwYBnTvUm4WnBah6OzObjacGlNSBDb9RpwfRtAcSgxWnBkDmxigXuacH2/tCsbOtpwQf/HPOk8WnB+R8kxMUAasGOqoWj5QZqwQ==\"},\"shape\":[14],\"dtype\":\"float64\",\"order\":\"little\"},{\"type\":\"ndarray\",\"array\":{\"type\":\"bytes\",\"data\":\"4r/VeysEasEmZtx7KwRqwS+kUbUqBGrB4r/VeysEasE=\"},\"shape\":[4],\"dtype\":\"float64\",\"order\":\"little\"},{\"type\":\"ndarray\",\"array\":{\"type\":\"bytes\",\"data\":\"NU0dCMsPasFZS/x9yg9qwWtIOmbLD2rBNU0dCMsPasE=\"},\"shape\":[4],\"dtype\":\"float64\",\"order\":\"little\"},{\"type\":\"ndarray\",\"array\":{\"type\":\"bytes\",\"data\":\"XvmbXvURasE8VFxe9RFqwUb0waL0EWrBXvmbXvURasE=\"},\"shape\":[4],\"dtype\":\"float64\",\"order\":\"little\"},{\"type\":\"ndarray\",\"array\":{\"type\":\"bytes\",\"data\":\"5NjpYSoSasH9+1VZKxJqwRMOIFkpEmrB5NjpYSoSasE=\"},\"shape\":[4],\"dtype\":\"float64\",\"order\":\"little\"},{\"type\":\"ndarray\",\"array\":{\"type\":\"bytes\",\"data\":\"McGNTvQUasEpwsKF9BRqwb468Rr0FGrBMcGNTvQUasE=\"},\"shape\":[4],\"dtype\":\"float64\",\"order\":\"little\"},{\"type\":\"ndarray\",\"array\":{\"type\":\"bytes\",\"data\":\"hqkMTpcaasGxlZyXlhpqwammrJyXGmrBhqkMTpcaasE=\"},\"shape\":[4],\"dtype\":\"float64\",\"order\":\"little\"}],[{\"type\":\"ndarray\",\"array\":{\"type\":\"bytes\",\"data\":\"FvkA6vkmasEY/CEMehpqwYRCmPkDHGrBFvkA6vkmasE=\"},\"shape\":[4],\"dtype\":\"float64\",\"order\":\"little\"}]],[[{\"type\":\"ndarray\",\"array\":{\"type\":\"bytes\",\"data\":\"a7Uucjh9aMH94+nOLWBowdMzeFndY2jBw1ctyS5WaMHuOJ0ObGZowbg9c5WKYGjBeaAE6/dmaMFX9leeHH1owbdDUABKd2jBVuLNXzxbaMEC2c98v1xowRH9T7fGgWjBXzUS17iYaMHDyKEmqp5owdlMQtL2wWjBQ+Kn1sK7aMGQ9OWozcVowQBGH+hVwGjBdNWcJUbVaMGGKHjuwcdowQIwj3gK4mjBSrKPc2fbaMF46qXgt5ZowWu1LnI4fWjB\"},\"shape\":[24],\"dtype\":\"float64\",\"order\":\"little\"}]],[[{\"type\":\"ndarray\",\"array\":{\"type\":\"bytes\",\"data\":\"Jw1UBoiTacGLl9fWy4RpwTP7ha/aimnBPbmUJbOCacE0MvqZ5oVpwYxINZX9kmnBmxKhr0KnacGIXDzK1r5pwRf7J0ZqmmnBAuO9yWOAacGfJ3DlcIBpwQTPObnlk2nBQpCJ6tB5acH4B4/qobBpwX8KTdLmwmnBHK82CtrNacH3RGWW2c9pwbt8z4IN3WnBnzoHwUbhacEOcvrW9CJqwVytX7oFH2rBzSmUrwUOasENhcvDahNqwQeSWVylC2rBeYesiaAaasFrYZ1CQyFqwdeAFSAHDWrBjRdWN338acH3bxacCNFpwdQCO8Y9wGnBF3lcAW+3acF+YhbvS7JpwSvOYaCtqWnBMdrx7UOZacGoDijkIqxpwW1dcDwWqGnB\"},\"shape\":[36],\"dtype\":\"float64\",\"order\":\"little\"}]],[[{\"type\":\"ndarray\",\"array\":{\"type\":\"bytes\",\"data\":\"sn7U3pmEacElzA4dmHNpwbnZYlQdeGnBVLjkDYFyacFcIkM4/4FpwSr5z1NHd2nB70s89sWAacEoYQu68YdpwQxU6NTha2nBF84fGLByacESsH5kkG1pwZwTuAcTdWnBulYoKSyCacFz14x714ZpwYhcPMrWvmnBtj79Y2SZacG02TUxi4VpwXTRjdzEimnB\"},\"shape\":[18],\"dtype\":\"float64\",\"order\":\"little\"}]],[[{\"type\":\"ndarray\",\"array\":{\"type\":\"bytes\",\"data\":\"jCp35D4MacGOS8DjnftowWeg3Oad52jB32JapHPMaMHIqka64cJowRd9YKabtGjBFp4pPBataMHLU7a2uqBowUaaEPNcoGjBgfHgDGSUaMHSHBBSTZBowb0dVPyGjGjBYuVyqRiBaMGKCfqwA4JowbNBNDNfW2jBXb/UtW1iaMEphJ1tfnBowTVc80pyhGjBH/vaS2KKaMFsfDKdnpZowbsMr64KnmjBMEG97+yraMG/s20MC7howdDkE1VbwGjBTWsF6vvOaMFG8vSCROpowePhSnSH9WjBUV4cY/j1aMF3lZzxl+towXyjBckY9WjBlA4IG7DeaMEiy9Fl+ONowdXJZLZs+WjBzROQF98UacHh4d3WSBZpwQ5fWiAPPWnBazJ6ThpDacEniBtFIixpwVris7zOLWnBmuerUIVJacE7o/RcA11pwWe0rBuKY2nBUXuSE0BpacEWml2ITXRpwShhC7rxh2nBKvnPU0d3acFcIkM4/4FpwVS45A2BcmnBfnbxbB14acGFxuQM9HFpwTPwIRqoamnByKa+behcacEQl2fh+VVpwVBp+tvCUGnB3jVH1txXacEQ6bCLqkhpwXgjyvXmPWnBAO5RhRoyacFV1ahtMA1pwYwqd+Q+DGnB\"},\"shape\":[60],\"dtype\":\"float64\",\"order\":\"little\"}]],[[{\"type\":\"ndarray\",\"array\":{\"type\":\"bytes\",\"data\":\"+AeP6qGwacEBgvntp3JpwbDJISx3ZmnBFdeSXy1PacF53i3wXlJpwdxVyIxYN2nBp+Lw+4YyacEGuAGh30JpwZNaCv+Hb2nBvq5MF92UacE0kjTSC59pwdxZ/U1PnWnBhD6nOmexacGdtD3/ya5pwTYts5+2vWnBHywPSQu+acERSnCRHsdpwaU1IENv1GnBah6OzObjacFyQ8RjVt9pwfdEZZbZz2nB7hJgmdPNacF/Ck3S5sJpwfgHj+qhsGnB\"},\"shape\":[24],\"dtype\":\"float64\",\"order\":\"little\"}]],[[{\"type\":\"ndarray\",\"array\":{\"type\":\"bytes\",\"data\":\"6ZRbDhY/acGaAeBCpCVpwR+LKqnfDGnBe3lF918WacHzc0/bLCBpwajAbenzGmnBqYmshZlCacENa46ZTVdpwW8m1B0bf2nBC+qk6c+HacE3hnNsv51pwSuGUtHDn2nBWPUWJ+qYacHplFsOFj9pwQ==\"},\"shape\":[14],\"dtype\":\"float64\",\"order\":\"little\"}]],[[{\"type\":\"ndarray\",\"array\":{\"type\":\"bytes\",\"data\":\"NJrWBLFbaMHNftuMoElowZM9IghFRGjBr7hejn08aMFitjgXF0VowQTdxelMP2jBIbYooJpJaMFgri4yEEJowYLXklisSGjB9Mn4g6dXaMFuH+HyqlJowZ5dI/VMXmjBjkRc4rFnaMF6TJu8EWVowWRKEcw2b2jBtnhxXJiBaMHFetqN0HpowWRma0kUhmjBnGJ89llvaMGXEKPngYJowc6eiNlgcGjB7AEp3Yx0aMFIIcvGGYhowczrp52qkGjBRBm2FaR+aME430InjW9owTOA6DotZGjB5K9+Kw5daMHxSSY7RGNowVDYNptYdGjBy6umNkdyaMEGaLtEfoFowRVrxCeKimjB62ceXSeJaMFYTJQAzZtowRfgnP4Vr2jBfNhpdvObaMGaRGU2Ga9owVa2r5hlrGjBTNdnTbXCaMHRHv0VpM5owRKQLZE13GjBbTfxQq7naMEnsAyAaRlpwRQZaU9HHmnBj+4c6mw1acFFnaE/ZR5pwVKUoT1eJmnBPgdBp5YlacHx+5O0pzxpwWCnj5fvImnBrYuBqAMkacGwz/fX8g9pweuNO5WjF2nBvdqTSq0XacFDt8f9IvRowS4x55T642jBlA4IG7DeaMF8owXJGPVowXeVnPGX62jBUV4cY/j1aMHj4Up0h/VowXhAK6ve52jBTWsF6vvOaMHQ5BNVW8Bowb+zbQwLuGjBMEG97+yraMG7DK+uCp5owWx8Mp2elmjBH/vaS2KKaME1XPNKcoRowSmEnW1+cGjB+nJwiHBiaME0mtYEsVtowQ==\"},\"shape\":[74],\"dtype\":\"float64\",\"order\":\"little\"}]],[[{\"type\":\"ndarray\",\"array\":{\"type\":\"bytes\",\"data\":\"LQ9WAV1JacGs4jJeNCxpweo6ddwBOWnB90CXAhpDacEn+DOx5T9pwRcbbh78F2nBsM/31/IPacGti4GoAyRpwZF4xD33ImnB8fuTtKc8acEJ1jbulyVpwbKMndScKWnB0ehavbUeacFFNgQq7jBpwd1Et6xiN2nBdh8IXv1UacGwySEsd2ZpwRQKFFLek2nB0AhrtB9wacEN1YajUm9pwWe0rBuKY2nBcf/YCwBdacE=\"},\"shape\":[22],\"dtype\":\"float64\",\"order\":\"little\"}]],[[{\"type\":\"ndarray\",\"array\":{\"type\":\"bytes\",\"data\":\"EzjmNl9WaMG+sDtAh0powQEykGSGPWjBhncIp+otaMHp92p45idowe69jXUPCGjBHOS0E3n9Z8FQG2jFsOVnwUV6aP5v7WfBLAr0ik8kaMGNZeabJBRowa58qhERIGjBYBAw3p80aMG4zpm8GkFowflSwe0XO2jBP4NEnetSaMHlRggh5DRowVGCxsyCNmjB2scVxhZEaMHeiIipIj9owZ1KGBC5XmjBBhdJ9/FeaMHbOS0RVHNowQR9MSB1cmjB/vM0DyeCaMEC2c98v1xowVbizV88W2jBt0NQAEp3aMH2R7mK9HxowXmgBOv3ZmjBuD1zlYpgaMHuOJ0ObGZowcNXLckuVmjB0zN4Wd1jaMHta/jckGBowZoPa+2OfGjBqDPRKN9xaMFQ2DabWHRowfFJJjtEY2jBNR+iWelgaME=\"},\"shape\":[40],\"dtype\":\"float64\",\"order\":\"little\"}]],[[{\"type\":\"ndarray\",\"array\":{\"type\":\"bytes\",\"data\":\"LP2Qi/N7asFFFoFfdWhqwXzFzzhqRWrBTYD0F/86asFOQCT4mC9qwSSD8yI2OmrBMGWdNo0qasGSvGJr1v5pwWL4adWHH2rB6tSOdBUmasEV7xoNpzRqwRvS3poEWWrBZTartMxLasEd8CxfezFqwWaUqo2VH2rBfRV4xcszasHxsum6oi1qwZqXo6mONmrBcwaslBkyasHSQgpC7EZqwVg/qA3IRmrBAwrlWc08asFTjgF+SEFqwYgMu8J5NWrBMlC6SaY7asEjZvD+vyRqweOxJHM9JGrB9P7WG0EIasH+E56KMQFqwfTUD9vy6mnBQNiGOO/lacHJ5aKVd/hpway8Dufh9GnBQbMVbV//acE8y5BbqwNqwWUp9BC3KGrBcxuS92U2asFfUZ6ODj9qwWS0Np5jUWrBnE4laK5jasFpbtrO2XJqwWJp4Hu7bWrBZRiqqTF6asHBlxRBhGFqwTDq5jUlVGrBGYF5BLtcasH2tKFKNWRqwemLpta2f2rB\"},\"shape\":[48],\"dtype\":\"float64\",\"order\":\"little\"}]],[[{\"type\":\"ndarray\",\"array\":{\"type\":\"bytes\",\"data\":\"LCh6XhRUacEVBod15zNpwVDBlkekO2nBR2uJL5AqacEW1yoixiNpwUloY/BsLmnBiY2aCUMSacFmlJJFHx1pwe5NZTrbD2nBiLfhQRkNacEppUgtITJpwbiMQ0jbPWnBEOmwi6pIacHeNUfW3FdpwcvO28jDUGnBBykuL+ZcacEz8CEaqGppwVuGw+81d2nB54HiJAOGacHHgvGPf41pwYw6v+zrqWnBv3ce0gmiacE6htyPDqhpwbPN9p7pw2nB0qRPo2TQacFC6t09Xrppwf1cCo8RdGnBPuF6lWVoacG8Mik+m09pwSwoel4UVGnB\"},\"shape\":[30],\"dtype\":\"float64\",\"order\":\"little\"}]],[[{\"type\":\"ndarray\",\"array\":{\"type\":\"bytes\",\"data\":\"09l8upnTacGzzfae6cNpwTqG3I8OqGnBv3ce0gmiacHJnrNgVKppwTZDg6QTn2nBR0rxRDmnacGoDijkIqxpwUzxMhVjoGnBe5D/oi2aacEXeVwBb7dpwdQCO8Y9wGnBjqXvT+3QacGSAljXrAJqwbg1mCu5/2nB1dAtajoQasHXgBUgBw1qwd7ZYGNuIWrBeYesiaAaasHxz3vBpQtqwQ2Fy8NqE2rBcCjMewMOasFcrV+6BR9qweHAlOb+ImrBg3v+DB4EasFCcVaaqQZqwaAPXPjDImrBB4xNZm1IasFdkjJJT09qweUn7Nb+cGrBJxZkC2RfasG0H/jEJVtqwWh6c84ObGrBZLQ2nmNRasG6axDe8j5qwXMbkvdlNmrBZSn0ELcoasFCH3GUaQFqwUGzFW1f/2nBrLwO5+H0acE8rpw1jelpwdPZfLqZ02nB\"},\"shape\":[42],\"dtype\":\"float64\",\"order\":\"little\"}]]]],[\"ys\",[[[{\"type\":\"ndarray\",\"array\":{\"type\":\"bytes\",\"data\":\"2dFDT8gRUUErtghViPFQQTbRpyJmDlFBugZVGbEEUUGqa8adAuVQQXPl5HoAyVBBK+dP0teyUEFWHGGBppRQQXbRVO9lelBByOIH1R5YUEFdAP8x/jRQQTkgYxNsok9BU06jJStyT0FKlXvVqGBPQfoZOBx8Ek9BJpb8GfsjT0FI/OysYElPQfyqyuPI3k9Bq19Hq1KOUEHZ0UNPyBFRQQ==\"},\"shape\":[20],\"dtype\":\"float64\",\"order\":\"little\"}],[{\"type\":\"ndarray\",\"array\":{\"type\":\"bytes\",\"data\":\"C11IPyPXTkF/95xCgNhOQeArMFQ1wE5B+9zBGOuTTkE=\"},\"shape\":[4],\"dtype\":\"float64\",\"order\":\"little\"}]],[[{\"type\":\"ndarray\",\"array\":{\"type\":\"bytes\",\"data\":\"oWNsQNKVT0E/YE4tE2tPQZ/a8xd1FU9BzH+3dbQET0FfHRFtreZOQcOdSn56rE5BVkKs4zVlTkFXoopM8DJOQa+Ohr6t9E1B21V0v3POTUGCSMTG5NpMQd/7PlkY50xBEL9ZkLQ6TUEHON2dfQdOQRp9MibNZ05BSiC/1UVuTkG/k3hjfrlOQQgNHnX5205B+hk4HHwST0G0KAYlxVxPQYX9ozVvYE9BoWNsQNKVT0E=\"},\"shape\":[22],\"dtype\":\"float64\",\"order\":\"little\"}],[{\"type\":\"ndarray\",\"array\":{\"type\":\"bytes\",\"data\":\"HweuHzXATUE9HCJ+QpFNQW9soth0gE1B/2wh2OaJTUE=\"},\"shape\":[4],\"dtype\":\"float64\",\"order\":\"little\"}],[{\"type\":\"ndarray\",\"array\":{\"type\":\"bytes\",\"data\":\"N3Neet8LTkER2aRqPepNQYe6fqi8+01BN3Neet8LTkE=\"},\"shape\":[4],\"dtype\":\"float64\",\"order\":\"little\"}],[{\"type\":\"ndarray\",\"array\":{\"type\":\"bytes\",\"data\":\"Wa9N6XIWTkFX4ELd3hVOQXWbdyxKI05BWa9N6XIWTkE=\"},\"shape\":[4],\"dtype\":\"float64\",\"order\":\"little\"}],[{\"type\":\"ndarray\",\"array\":{\"type\":\"bytes\",\"data\":\"BsqNnKcvTkF1gw18FSxOQS1/4MXfAE5BqMGCz/0CTkE=\"},\"shape\":[4],\"dtype\":\"float64\",\"order\":\"little\"}],[{\"type\":\"ndarray\",\"array\":{\"type\":\"bytes\",\"data\":\"adojsDUuTkHYQ7g/ajhOQQ3iqP9BQ05BadojsDUuTkE=\"},\"shape\":[4],\"dtype\":\"float64\",\"order\":\"little\"}]],[[{\"type\":\"ndarray\",\"array\":{\"type\":\"bytes\",\"data\":\"m5ucJXWkUUEKF+58L3pRQXEXQ6bwclFBn/g/AqYzUUHt0bpdhhpRQdj9uzgm5VBBkTMsM4LnUEGv8oQeqBxRQS9Pctr/CFFBzw2z/bbnUEHuKOkg/8BQQUSmjxqeiVBBtKk/GtFFUEE2V/OdPi5QQRPjDz+aCFBBafr0pf/3T0GZCePSDZNPQSdGCNRgZ09Blk2n24eNT0F+BuUg/GZPQTcSu+mbck9BE24sUw4iT0Fnl4HowBBPQXWEjtUy705Bhlp78ygiT0FahBaUUhdPQUrnZ0cQZ09BQ5YN1H6QT0HK6kfIvf9PQWK6HvkDGlBBpGQ+Cu4dUEHbp6QO+VVQQXF1t0xS91BB5aXd0PgDUUHqXqE65TFRQdrx6SgzVFFB7mxoh0F8UUGbm5wldaRRQQ==\"},\"shape\":[38],\"dtype\":\"float64\",\"order\":\"little\"}]],[[{\"type\":\"ndarray\",\"array\":{\"type\":\"bytes\",\"data\":\"z7SQ80dwUUGlRp6sW6dRQbtJOfN4pVFBiLazM0/UUUGiWM4vc8NRQUmq7NOXn1FB01nRjVtkUUED1KBmiVdRQXSnCkJu9FBBDj78ApISUUFYkoC+QeFQQbP0XeA05lBBEmfiFcIHUUFLDjSHbVpRQQ==\"},\"shape\":[14],\"dtype\":\"float64\",\"order\":\"little\"},{\"type\":\"ndarray\",\"array\":{\"type\":\"bytes\",\"data\":\"r+WwL+hkUUFkpZ0v6GRRQR98yGznZFFBr+WwL+hkUUE=\"},\"shape\":[4],\"dtype\":\"float64\",\"order\":\"little\"},{\"type\":\"ndarray\",\"array\":{\"type\":\"bytes\",\"data\":\"UPu19Q1zUUEQrBCUD3NRQdAoUeAMc1FBUPu19Q1zUUE=\"},\"shape\":[4],\"dtype\":\"float64\",\"order\":\"little\"},{\"type\":\"ndarray\",\"array\":{\"type\":\"bytes\",\"data\":\"oPyykYp4UUF4loeRinhRQYJAm6SLeFFBoPyykYp4UUE=\"},\"shape\":[4],\"dtype\":\"float64\",\"order\":\"little\"},{\"type\":\"ndarray\",\"array\":{\"type\":\"bytes\",\"data\":\"seCd2D96UUGqPN+fP3pRQRL9DDw/elFBseCd2D96UUE=\"},\"shape\":[4],\"dtype\":\"float64\",\"order\":\"little\"},{\"type\":\"ndarray\",\"array\":{\"type\":\"bytes\",\"data\":\"FfxmmFuAUUHmPiYPXYBRQSz2jNlZgFFBFfxmmFuAUUE=\"},\"shape\":[4],\"dtype\":\"float64\",\"order\":\"little\"},{\"type\":\"ndarray\",\"array\":{\"type\":\"bytes\",\"data\":\"C15KcYx8UUGlss7Bi3xRQazTY5SNfFFBC15KcYx8UUE=\"},\"shape\":[4],\"dtype\":\"float64\",\"order\":\"little\"}],[{\"type\":\"ndarray\",\"array\":{\"type\":\"bytes\",\"data\":\"H+Bs6AxYUUHSVvG4TFFRQQST5ekaSFFBH+Bs6AxYUUE=\"},\"shape\":[4],\"dtype\":\"float64\",\"order\":\"little\"}]],[[{\"type\":\"ndarray\",\"array\":{\"type\":\"bytes\",\"data\":\"kUYB9TwFUEG7lysJP4ZPQd7HSrmLDk9BI/mWiR2oTkGEYKAXCohOQXZiF6T7Qk5BYjK5oTAdTkHF8wyLlTVOQd8sRzW58U1BHTGjRoWwTUHKSj1Xy2tNQUwN2q/oDk1BVk4ELgpWTUGTsuZ1QANNQdtVdL9zzk1Br46Gvq30TUFXoopM8DJOQVZCrOM1ZU5Bw51KfnqsTkHZzOwhN+9OQYI5fRqbI09BNxK76ZtyT0GTlEvl9XZPQZFGAfU8BVBB\"},\"shape\":[24],\"dtype\":\"float64\",\"order\":\"little\"}]],[[{\"type\":\"ndarray\",\"array\":{\"type\":\"bytes\",\"data\":\"yMxOgGjvU0G4qwm+mKxTQf8zYeaaalNB9tyqVvU0U0GoLdHLlCJTQWBiS+CxLVNBmTDanV8XU0EGHqibaNlSQeEyJ1CGuFJBvcWW+K6FUkFqA3J2m1NSQbHbg55ZQFJB+phucmDUUUFo2ZLO+9pRQT9a6cYmrlFBDR8lVuizUUGZrMqsnIVRQR7KeA/Ye1FBTuOEqPyfUUGbcejEow5SQW2AJe3SL1JBuQvpSdYmUkHXJXblWjxSQRqURi7CTlJBNmw+KctzUkFVasx+/8BSQXthQZHT4VJB2TUB+3dWU0EgLFIG1nhTQYQSq/f0eVNBwPF6h+ZbU0GXmPXWPHRTQV43hc5oa1NBaNp0jn2jU0GatthmtrhTQbwsyR8H3VNB\"},\"shape\":[36],\"dtype\":\"float64\",\"order\":\"little\"}]],[[{\"type\":\"ndarray\",\"array\":{\"type\":\"bytes\",\"data\":\"MinqjkSsU0EG3zsyBJZTQd1BesQ5PVNBsaqVNc0vU0GLJl48niNTQYQyegV79lJBW6Dq2FX+UkGQTMlSBPpSQUJPJoGJsFJBffWy2TiIUkEpT6NCH2JSQcrtEv8TU1JBhGyrzAleUkFgLElDbJtSQQYeqJto2VJBxiI3bukqU0GUNlJ3ZiNTQYE+wC5df1NB\"},\"shape\":[18],\"dtype\":\"float64\",\"order\":\"little\"}]],[[{\"type\":\"ndarray\",\"array\":{\"type\":\"bytes\",\"data\":\"Nfj3GVXiU0H9KU5eVt5TQa7B3c49jlNBUK8j22V6U0HtOo0hWVVTQdDcZUfnVlNB/8foBL4xU0H10Vh1q0BTQcqjM1VTdlNB+heYc85mU0Fu73D+5HdTQf2iziVZeVNBeUMfon9ZU0FmpmAnkZBTQcHTx5lPR1NB3rG1PgEkU0FsKr9TwSFTQZ0yVvRo1FJBV6VhSE2IUkEROYCtGIBSQYtEe00yslJBFL+3RBF0UkFQBOBvIntSQRiyLSKiplJBtOKIvcaRUkFyz6Ldyd9RQXALscnv4FFB9EGQN4EPUkHEWCFW8CdSQWdksZhUk1JBcJbK75XQUkGMEKGxK/1SQWlsvPXj0lJB0kvW4MLkUkErqjHNPrhSQRW/K2Qia1JBtjTjTNOCUkHJKc2ieMBSQY2U7XbQ4FJBSJkDxb7tUkHmu/QaZ6lSQe2iU614x1JBknZ571SwUkEfhvanEbNSQZBMyVIE+lJBhDJ6BXv2UkGLJl48niNTQbGqlTXNL1NBfXxSjRlCU0H8jboYhqBTQXzKVsY5q1NB+MZw0oNzU0E+xkV5F3dTQWJNQbL/hlNBaYq/TCOjU0EdEXGeH6dTQXFBfBBJ21NBTvCAo1KUU0FlcpledcBTQTX49xlV4lNB\"},\"shape\":[60],\"dtype\":\"float64\",\"order\":\"little\"}]],[[{\"type\":\"ndarray\",\"array\":{\"type\":\"bytes\",\"data\":\"aNmSzvvaUUEgEdsNj8tRQTFF61Isk1FB54YkMZJoUUF+DujGcFJRQf6PfQJrLVFBbMqefqv9UEEx6kdPmApRQceotMjs2VBB/Raro/PMUEFzjwzNJLhQQdN9wV0+mVBBU1DSgsSwUEFz5eR6AMlQQaprxp0C5VBBugZVGbEEUUHwCAO5twRRQQPUoGaJV1FB01nRjVtkUUGpu+6aWIBRQZmsyqychVFBAsAFYvSzUUE/WunGJq5RQWjZks772lFB\"},\"shape\":[24],\"dtype\":\"float64\",\"order\":\"little\"}]],[[{\"type\":\"ndarray\",\"array\":{\"type\":\"bytes\",\"data\":\"UJS8TGsLUUFxdbdMUvdQQdunpA75VVBBpGQ+Cu4dUEFiuh75AxpQQcrqR8i9/09BFYTsZfyIT0EMk9LnlaNPQSJspJwsJFBBvBT+eT5XUEHYPK4o73VQQWVwL0Fpj1BBbSZOlJrIUEFQlLxMawtRQQ==\"},\"shape\":[14],\"dtype\":\"float64\",\"order\":\"little\"}]],[[{\"type\":\"ndarray\",\"array\":{\"type\":\"bytes\",\"data\":\"MNFEaKdBU0En/iKGHjtTQf6TvFs9GFNB1YFQe2R1UkEbL8xnyURSQdps8ypGKVJB3G6GWRUSUkG3my/by7lRQSi8TxIHmFFBPpFcb1ygUUFX+wMj+VBRQXgWn8QBE1FBRB6CPoQQUUH9k/AB0QpSQYR+kRB2LVJBMyWeWZUPUkHIj5TPJtBRQQiW/WBcqFFBG1u1hN14UUEuUbmtEjVRQZ4Lvnr92FBBNSjjLJ3FUEFR9o8kK8xQQR6qDkPSi1BBw5uhmBlWUEEsQjYb7lBQQd2QpPOzZ1BBtYtJPUVbUEG54s3E2yVQQYK/AGF0LVBBKrZ93TQXUEFlUxhGfftPQRPjDz+aCFBBNlfznT4uUEG0qT8a0UVQQUSmjxqeiVBB7ijpIP/AUEHPDbP9tudQQS9Pctr/CFFBr/KEHqgcUUGRMywzgudQQWrYhAOZ5FBB7dG6XYYaUUGf+D8CpjNRQdAoJyz3clFBtamc0G17UUF39fecdrNRQaebf4h+wVFBvG3liOoCUkFBo/Up0hxSQdopscilFlJB1NkNa8k+UkFtO4SVw4pSQYaZOty6lVJB1n3XZe/eUkH4uoJ5zdVSQTN3N98t/VJBcJbK75XQUkFnZLGYVJNSQcRYIVbwJ1JB9EGQN4EPUkFwC7HJ7+BRQcUxYgX24VFBtOKIvcaRUkEYsi0ioqZSQVAE4G8ie1JBFL+3RBF0UkGLRHtNMrJSQRE5gK0YgFJBV6VhSE2IUkGdMlb0aNRSQWwqv1PBIVNBq9xXTfwjU0Ew0URop0FTQQ==\"},\"shape\":[74],\"dtype\":\"float64\",\"order\":\"little\"}]],[[{\"type\":\"ndarray\",\"array\":{\"type\":\"bytes\",\"data\":\"WqtDg8LtUkGgrEUmF9pSQacSzzInj1JBwEKhjdWCUkGl9SH41mtSQUVfXWYjuFJBbTuElcOKUkHU2Q1ryT5SQYKiBHyGFlJBQaP1KdIcUkG0YGSr8AJSQb3qiwfX5lFBBp6Dak+xUUHURo+BCYdRQeh8Kda2pFFB7mxoh0F8UUExRetSLJNRQefX9v76QlJB1sytLrlXUkHFZtEmB69SQe2iU614x1JB4PMKE2mpUkE=\"},\"shape\":[22],\"dtype\":\"float64\",\"order\":\"little\"}]],[[{\"type\":\"ndarray\",\"array\":{\"type\":\"bytes\",\"data\":\"o0FHWulrUEGOD7hCqANQQVFtLE26H1BB1XpyOHrhT0F0uiYDsQlQQXRXm2fEHVBBM8uJjIupT0GJf3eBiEBPQQstjZXN905BBTPVaUibTkFwNv+pgjROQWOjpuWeE05Bwdmh2x8jTkFp9u45i/BNQdz5FDTQxk1B6YO4pA1vTUGo1iNqFu1MQU6CoFelukxBu1VXl2OXTEEkxJHVdjhMQdu+Th/2iUxBA9M59Q9eTEHnvla3Q15MQeMBVIhSkUxBLDkiuSvwTEHKSj1Xy2tNQR0xo0aFsE1B3yxHNbnxTUFSIl/ABzBOQWIyuaEwHU5BdmIXpPtCTkGEYKAXCohOQSP5lokdqE5B3sdKuYsOT0EMfGwiKotPQRj52qjn/k9BNM1/wiQZUEGCvwBhdC1QQbnizcTbJVBB9gqiKIdlUEE=\"},\"shape\":[40],\"dtype\":\"float64\",\"order\":\"little\"}]],[[{\"type\":\"ndarray\",\"array\":{\"type\":\"bytes\",\"data\":\"xR5uBwqMV0FisozlyVlXQU3TaeycTVdBRwV4r7gaV0EW8GmoHB5XQZuQXQez+1ZBaOA6hVK4VkFXqnfFZH5WQQ6jH2hNYlZBCK2nPxVBVkHQk+w8GltWQR7W1+byNVZBTPAoSQcGVkGh92o32xtWQfyT1dM1AFZBn6KAu9zbVUHNK6rq28xVQYtnUr3QqlVBS3i2NfybVUF7mU7ufIdVQdMQlL1kbFVBFBe0ZTJmVUE8xdCKRzRVQbiqWcrSDFVB7BUOnJHiVEEcqN3RK8ZUQT8dIBcjklRB98yyMbKcVEF4JT3tkH9UQZeZs3SVflRBXLpLWnRqVEGO4q5iRvFTQViI41Vg2VNBqQLzc2PYU0Ec2KF8MbZTQdMbhmbpo1NB6857qaayU0GVrXdQoJ5TQXiGHm4dxVNBVTFpZIaoU0FcBmwNYfJTQfErAU5sClRBx6FoCFAfVEGZKhLz27dUQcS8GtztEVZBUqO4Yc40VkG4jXXfP9JWQcsAGZadSFdB\"},\"shape\":[48],\"dtype\":\"float64\",\"order\":\"little\"}]],[[{\"type\":\"ndarray\",\"array\":{\"type\":\"bytes\",\"data\":\"BWV4tx3yVEGc1qmJYwRVQcpz0neGw1RBFIc2F6mkVEGFdYrepGVUQQeyxQUvWlRBYWQ7GwxHVEEFiRlQWhlUQab5z9t7DFRB4AoeS7PAU0F4cis/UpRTQaJ5jfxX21NBHRFxnh+nU0Fpir9MI6NTQYbPZcTzhlNBZr5HbIBzU0F8ylbGOatTQQUOg+K4lFNBo1mlzeGuU0GGJjD6dedTQRIJdQ7j9lNBRGD4COQOVEFcsImbPStUQS8OFDrhOVRBH1SNh0dqVEF1zC2pDa5UQWw54r8ajFRBT6zL/j7SVEFdgr75GdFUQQVleLcd8lRB\"},\"shape\":[30],\"dtype\":\"float64\",\"order\":\"little\"}]],[[{\"type\":\"ndarray\",\"array\":{\"type\":\"bytes\",\"data\":\"LwFiyzF2VEEvDhQ64TlUQVywiZs9K1RBRGD4COQOVEHbC04/gvhTQZLslSbI4VNB05Sa5g7gU0GatthmtrhTQc/hIE0Vt1NBM+RfhqqWU0HA8XqH5ltTQYQSq/f0eVNBPm6ZFdx4U0G4/o5shktTQeNB9hgPMFNBj+INhFDyUkF7YUGR0+FSQWL707Ykv1JBNmw+KctzUkH0gToG0U5SQdclduVaPFJBv+hoJuUmUkFtgCXt0i9SQYoVjcT/D1JBM/87Sgu5UUGFMizbb6VRQbQqEdRQm1FBigFaDwj1UUEzfcXSdnNSQW0Q8T/OzVJBEUkRPLoTU0GenT1WzlxTQQ0HopS1mVNBeIYebh3FU0EdDJ1Tm55TQevOe6mmslNB0xuGZumjU0EqXxbfbLlTQakC83Nj2FNBWIjjVWDZU0G3y0Ts72NUQS8BYssxdlRB\"},\"shape\":[42],\"dtype\":\"float64\",\"order\":\"little\"}]]]],[\"fire_density_per_million_ha\",{\"type\":\"ndarray\",\"array\":{\"type\":\"bytes\",\"data\":\"eJ2B6ZVXr0DMdxbk3lLJQBSBml/jgJZAk3HZUdSsv0AA0RiJl/egQKrxHkh/Sb1ADaSdySpOo0BtsjuoYEIYQP+HN0XwKsRA5rFnDvretkCAAxQ9CrIsQNADCBfjAJJAdigLs2fGbUAXBqtlkiw0QOO8Nrg4zvg/jj0e5zV0sEA=\"},\"shape\":[16],\"dtype\":\"float64\",\"order\":\"little\"}],[\"name\",{\"type\":\"ndarray\",\"array\":[\"Central California Coastal\",\"Southern California Coastal\",\"Northern Mojave-Mono Lake\",\"San Francisco Bay\",\"Southern Mojave-Salton Sea\",\"Sacramento\",\"North Lahontan\",\"Black Rock Desert-Humboldt\",\"San Joaquin\",\"Tulare-Buena Vista Lakes\",\"Central Nevada Desert Basins\",\"Central Lahontan\",\"Lower Colorado\",\"Oregon-Washington Coastal\",\"Oregon Closed Basins\",\"Klamath-Northern California Coastal\"],\"shape\":[16],\"dtype\":\"object\",\"order\":\"little\"}]]}}},\"view\":{\"type\":\"object\",\"name\":\"CDSView\",\"id\":\"p1628\",\"attributes\":{\"filter\":{\"type\":\"object\",\"name\":\"AllIndices\",\"id\":\"p1629\"}}},\"glyph\":{\"type\":\"object\",\"name\":\"MultiPolygons\",\"id\":\"p1624\",\"attributes\":{\"xs\":{\"type\":\"field\",\"field\":\"xs\"},\"ys\":{\"type\":\"field\",\"field\":\"ys\"},\"line_color\":{\"type\":\"value\",\"value\":\"white\"},\"fill_color\":{\"type\":\"field\",\"field\":\"fire_density_per_million_ha\",\"transform\":{\"type\":\"object\",\"name\":\"LinearColorMapper\",\"id\":\"p1617\",\"attributes\":{\"palette\":[\"#0c0786\",\"#100787\",\"#130689\",\"#15068a\",\"#18068b\",\"#1b068c\",\"#1d068d\",\"#1f058e\",\"#21058f\",\"#230590\",\"#250591\",\"#270592\",\"#290593\",\"#2b0594\",\"#2d0494\",\"#2f0495\",\"#310496\",\"#330497\",\"#340498\",\"#360498\",\"#380499\",\"#3a049a\",\"#3b039a\",\"#3d039b\",\"#3f039c\",\"#40039c\",\"#42039d\",\"#44039e\",\"#45039e\",\"#47029f\",\"#49029f\",\"#4a02a0\",\"#4c02a1\",\"#4e02a1\",\"#4f02a2\",\"#5101a2\",\"#5201a3\",\"#5401a3\",\"#5601a3\",\"#5701a4\",\"#5901a4\",\"#5a00a5\",\"#5c00a5\",\"#5e00a5\",\"#5f00a6\",\"#6100a6\",\"#6200a6\",\"#6400a7\",\"#6500a7\",\"#6700a7\",\"#6800a7\",\"#6a00a7\",\"#6c00a8\",\"#6d00a8\",\"#6f00a8\",\"#7000a8\",\"#7200a8\",\"#7300a8\",\"#7500a8\",\"#7601a8\",\"#7801a8\",\"#7901a8\",\"#7b02a8\",\"#7c02a7\",\"#7e03a7\",\"#7f03a7\",\"#8104a7\",\"#8204a7\",\"#8405a6\",\"#8506a6\",\"#8607a6\",\"#8807a5\",\"#8908a5\",\"#8b09a4\",\"#8c0aa4\",\"#8e0ca4\",\"#8f0da3\",\"#900ea3\",\"#920fa2\",\"#9310a1\",\"#9511a1\",\"#9612a0\",\"#9713a0\",\"#99149f\",\"#9a159e\",\"#9b179e\",\"#9d189d\",\"#9e199c\",\"#9f1a9b\",\"#a01b9b\",\"#a21c9a\",\"#a31d99\",\"#a41e98\",\"#a51f97\",\"#a72197\",\"#a82296\",\"#a92395\",\"#aa2494\",\"#ac2593\",\"#ad2692\",\"#ae2791\",\"#af2890\",\"#b02a8f\",\"#b12b8f\",\"#b22c8e\",\"#b42d8d\",\"#b52e8c\",\"#b62f8b\",\"#b7308a\",\"#b83289\",\"#b93388\",\"#ba3487\",\"#bb3586\",\"#bc3685\",\"#bd3784\",\"#be3883\",\"#bf3982\",\"#c03b81\",\"#c13c80\",\"#c23d80\",\"#c33e7f\",\"#c43f7e\",\"#c5407d\",\"#c6417c\",\"#c7427b\",\"#c8447a\",\"#c94579\",\"#ca4678\",\"#cb4777\",\"#cc4876\",\"#cd4975\",\"#ce4a75\",\"#cf4b74\",\"#d04d73\",\"#d14e72\",\"#d14f71\",\"#d25070\",\"#d3516f\",\"#d4526e\",\"#d5536d\",\"#d6556d\",\"#d7566c\",\"#d7576b\",\"#d8586a\",\"#d95969\",\"#da5a68\",\"#db5b67\",\"#dc5d66\",\"#dc5e66\",\"#dd5f65\",\"#de6064\",\"#df6163\",\"#df6262\",\"#e06461\",\"#e16560\",\"#e26660\",\"#e3675f\",\"#e3685e\",\"#e46a5d\",\"#e56b5c\",\"#e56c5b\",\"#e66d5a\",\"#e76e5a\",\"#e87059\",\"#e87158\",\"#e97257\",\"#ea7356\",\"#ea7455\",\"#eb7654\",\"#ec7754\",\"#ec7853\",\"#ed7952\",\"#ed7b51\",\"#ee7c50\",\"#ef7d4f\",\"#ef7e4e\",\"#f0804d\",\"#f0814d\",\"#f1824c\",\"#f2844b\",\"#f2854a\",\"#f38649\",\"#f38748\",\"#f48947\",\"#f48a47\",\"#f58b46\",\"#f58d45\",\"#f68e44\",\"#f68f43\",\"#f69142\",\"#f79241\",\"#f79341\",\"#f89540\",\"#f8963f\",\"#f8983e\",\"#f9993d\",\"#f99a3c\",\"#fa9c3b\",\"#fa9d3a\",\"#fa9f3a\",\"#faa039\",\"#fba238\",\"#fba337\",\"#fba436\",\"#fca635\",\"#fca735\",\"#fca934\",\"#fcaa33\",\"#fcac32\",\"#fcad31\",\"#fdaf31\",\"#fdb030\",\"#fdb22f\",\"#fdb32e\",\"#fdb52d\",\"#fdb62d\",\"#fdb82c\",\"#fdb92b\",\"#fdbb2b\",\"#fdbc2a\",\"#fdbe29\",\"#fdc029\",\"#fdc128\",\"#fdc328\",\"#fdc427\",\"#fdc626\",\"#fcc726\",\"#fcc926\",\"#fccb25\",\"#fccc25\",\"#fcce25\",\"#fbd024\",\"#fbd124\",\"#fbd324\",\"#fad524\",\"#fad624\",\"#fad824\",\"#f9d924\",\"#f9db24\",\"#f8dd24\",\"#f8df24\",\"#f7e024\",\"#f7e225\",\"#f6e425\",\"#f6e525\",\"#f5e726\",\"#f5e926\",\"#f4ea26\",\"#f3ec26\",\"#f3ee26\",\"#f2f026\",\"#f2f126\",\"#f1f326\",\"#f0f525\",\"#f0f623\",\"#eff821\"],\"low\":1.550347060761674,\"high\":12965.741335686202}}},\"hatch_color\":{\"type\":\"field\",\"field\":\"fire_density\"}}},\"selection_glyph\":{\"type\":\"object\",\"name\":\"MultiPolygons\",\"id\":\"p1635\",\"attributes\":{\"xs\":{\"type\":\"field\",\"field\":\"xs\"},\"ys\":{\"type\":\"field\",\"field\":\"ys\"},\"line_color\":{\"type\":\"value\",\"value\":\"white\"},\"line_alpha\":{\"type\":\"value\",\"value\":1.0},\"line_width\":{\"type\":\"value\",\"value\":1},\"line_join\":{\"type\":\"value\",\"value\":\"bevel\"},\"line_cap\":{\"type\":\"value\",\"value\":\"butt\"},\"line_dash\":{\"type\":\"value\",\"value\":[]},\"line_dash_offset\":{\"type\":\"value\",\"value\":0},\"fill_color\":{\"type\":\"field\",\"field\":\"fire_density_per_million_ha\",\"transform\":{\"id\":\"p1617\"}},\"fill_alpha\":{\"type\":\"value\",\"value\":1.0},\"hatch_color\":{\"type\":\"field\",\"field\":\"fire_density\"},\"hatch_alpha\":{\"type\":\"value\",\"value\":1.0},\"hatch_scale\":{\"type\":\"value\",\"value\":12.0},\"hatch_pattern\":{\"type\":\"value\",\"value\":null},\"hatch_weight\":{\"type\":\"value\",\"value\":1.0}}},\"nonselection_glyph\":{\"type\":\"object\",\"name\":\"MultiPolygons\",\"id\":\"p1625\",\"attributes\":{\"xs\":{\"type\":\"field\",\"field\":\"xs\"},\"ys\":{\"type\":\"field\",\"field\":\"ys\"},\"line_color\":{\"type\":\"value\",\"value\":\"white\"},\"line_alpha\":{\"type\":\"value\",\"value\":0.1},\"fill_color\":{\"type\":\"field\",\"field\":\"fire_density_per_million_ha\",\"transform\":{\"id\":\"p1617\"}},\"fill_alpha\":{\"type\":\"value\",\"value\":0.1},\"hatch_color\":{\"type\":\"field\",\"field\":\"fire_density\"},\"hatch_alpha\":{\"type\":\"value\",\"value\":0.1}}},\"muted_glyph\":{\"type\":\"object\",\"name\":\"MultiPolygons\",\"id\":\"p1626\",\"attributes\":{\"xs\":{\"type\":\"field\",\"field\":\"xs\"},\"ys\":{\"type\":\"field\",\"field\":\"ys\"},\"line_color\":{\"type\":\"value\",\"value\":\"white\"},\"line_alpha\":{\"type\":\"value\",\"value\":0.2},\"fill_color\":{\"type\":\"field\",\"field\":\"fire_density_per_million_ha\",\"transform\":{\"id\":\"p1617\"}},\"fill_alpha\":{\"type\":\"value\",\"value\":0.2},\"hatch_color\":{\"type\":\"field\",\"field\":\"fire_density\"},\"hatch_alpha\":{\"type\":\"value\",\"value\":0.2}}}}}],\"toolbar\":{\"type\":\"object\",\"name\":\"Toolbar\",\"id\":\"p1589\",\"attributes\":{\"tools\":[{\"type\":\"object\",\"name\":\"WheelZoomTool\",\"id\":\"p1573\",\"attributes\":{\"zoom_on_axis\":false}},{\"type\":\"object\",\"name\":\"BoxZoomTool\",\"id\":\"p1574\",\"attributes\":{\"overlay\":{\"type\":\"object\",\"name\":\"BoxAnnotation\",\"id\":\"p1004\",\"attributes\":{\"syncable\":false,\"level\":\"overlay\",\"visible\":false,\"left_units\":\"canvas\",\"right_units\":\"canvas\",\"bottom_units\":\"canvas\",\"top_units\":\"canvas\",\"line_color\":\"black\",\"line_alpha\":1.0,\"line_width\":2,\"line_dash\":[4,4],\"fill_color\":\"lightgrey\",\"fill_alpha\":0.5}},\"match_aspect\":true}},{\"type\":\"object\",\"name\":\"HoverTool\",\"id\":\"p1579\",\"attributes\":{\"tags\":[\"hv_created\"],\"renderers\":[{\"id\":\"p1627\"}],\"tooltips\":[[\"fire_density_per_million_ha\",\"@{fire_density_per_million_ha}\"],[\"name\",\"@{name}\"]]}},{\"type\":\"object\",\"name\":\"PanTool\",\"id\":\"p1603\"},{\"type\":\"object\",\"name\":\"ResetTool\",\"id\":\"p1604\"}],\"active_drag\":{\"id\":\"p1603\"}}},\"left\":[{\"type\":\"object\",\"name\":\"LinearAxis\",\"id\":\"p1597\",\"attributes\":{\"ticker\":{\"type\":\"object\",\"name\":\"MercatorTicker\",\"id\":\"p1607\",\"attributes\":{\"mantissas\":[1,2,5],\"dimension\":\"lat\"}},\"formatter\":{\"type\":\"object\",\"name\":\"MercatorTickFormatter\",\"id\":\"p1608\",\"attributes\":{\"dimension\":\"lat\"}},\"axis_label\":\"Latitude\",\"axis_label_text_font_size\":\"0pt\",\"major_label_policy\":{\"type\":\"object\",\"name\":\"AllLabels\",\"id\":\"p1600\"},\"major_label_text_font_size\":\"0pt\",\"major_tick_line_color\":null,\"minor_tick_line_color\":null}}],\"right\":[{\"type\":\"object\",\"name\":\"ColorBar\",\"id\":\"p1631\",\"attributes\":{\"location\":[0,0],\"ticker\":{\"type\":\"object\",\"name\":\"BasicTicker\",\"id\":\"p1630\",\"attributes\":{\"mantissas\":[1,2,5]}},\"major_label_policy\":{\"type\":\"object\",\"name\":\"NoOverlap\",\"id\":\"p1632\"},\"label_standoff\":8,\"major_tick_line_color\":\"black\",\"bar_line_color\":\"black\",\"color_mapper\":{\"id\":\"p1617\"}}}],\"below\":[{\"type\":\"object\",\"name\":\"LinearAxis\",\"id\":\"p1592\",\"attributes\":{\"ticker\":{\"type\":\"object\",\"name\":\"MercatorTicker\",\"id\":\"p1605\",\"attributes\":{\"mantissas\":[1,2,5],\"dimension\":\"lon\"}},\"formatter\":{\"type\":\"object\",\"name\":\"MercatorTickFormatter\",\"id\":\"p1606\",\"attributes\":{\"dimension\":\"lon\"}},\"axis_label\":\"Longitude\",\"axis_label_text_font_size\":\"0pt\",\"major_label_policy\":{\"type\":\"object\",\"name\":\"AllLabels\",\"id\":\"p1595\"},\"major_label_text_font_size\":\"0pt\",\"major_tick_line_color\":null,\"minor_tick_line_color\":null}}],\"center\":[{\"type\":\"object\",\"name\":\"Grid\",\"id\":\"p1596\",\"attributes\":{\"axis\":{\"id\":\"p1592\"},\"grid_line_color\":null}},{\"type\":\"object\",\"name\":\"Grid\",\"id\":\"p1601\",\"attributes\":{\"dimension\":1,\"axis\":{\"id\":\"p1597\"},\"grid_line_color\":null}}],\"min_border_top\":10,\"min_border_bottom\":10,\"min_border_left\":10,\"min_border_right\":10,\"output_backend\":\"webgl\"}},{\"type\":\"object\",\"name\":\"Spacer\",\"id\":\"p1637\",\"attributes\":{\"name\":\"HSpacer02392\",\"stylesheets\":[\"\\n:host(.pn-loading.pn-arc):before, .pn-loading.pn-arc:before {\\n  background-image: url(\\\"data:image/svg+xml;base64,PHN2ZyB4bWxucz0iaHR0cDovL3d3dy53My5vcmcvMjAwMC9zdmciIHN0eWxlPSJtYXJnaW46IGF1dG87IGJhY2tncm91bmQ6IG5vbmU7IGRpc3BsYXk6IGJsb2NrOyBzaGFwZS1yZW5kZXJpbmc6IGF1dG87IiB2aWV3Qm94PSIwIDAgMTAwIDEwMCIgcHJlc2VydmVBc3BlY3RSYXRpbz0ieE1pZFlNaWQiPiAgPGNpcmNsZSBjeD0iNTAiIGN5PSI1MCIgZmlsbD0ibm9uZSIgc3Ryb2tlPSIjYzNjM2MzIiBzdHJva2Utd2lkdGg9IjEwIiByPSIzNSIgc3Ryb2tlLWRhc2hhcnJheT0iMTY0LjkzMzYxNDMxMzQ2NDE1IDU2Ljk3Nzg3MTQzNzgyMTM4Ij4gICAgPGFuaW1hdGVUcmFuc2Zvcm0gYXR0cmlidXRlTmFtZT0idHJhbnNmb3JtIiB0eXBlPSJyb3RhdGUiIHJlcGVhdENvdW50PSJpbmRlZmluaXRlIiBkdXI9IjFzIiB2YWx1ZXM9IjAgNTAgNTA7MzYwIDUwIDUwIiBrZXlUaW1lcz0iMDsxIj48L2FuaW1hdGVUcmFuc2Zvcm0+ICA8L2NpcmNsZT48L3N2Zz4=\\\");\\n  background-size: auto calc(min(50%, 400px));\\n}\",{\"id\":\"p1558\"},{\"id\":\"p1556\"},{\"id\":\"p1557\"}],\"margin\":0,\"sizing_mode\":\"stretch_width\",\"align\":\"start\"}}]}}],\"defs\":[{\"type\":\"model\",\"name\":\"ReactiveHTML1\"},{\"type\":\"model\",\"name\":\"FlexBox1\",\"properties\":[{\"name\":\"align_content\",\"kind\":\"Any\",\"default\":\"flex-start\"},{\"name\":\"align_items\",\"kind\":\"Any\",\"default\":\"flex-start\"},{\"name\":\"flex_direction\",\"kind\":\"Any\",\"default\":\"row\"},{\"name\":\"flex_wrap\",\"kind\":\"Any\",\"default\":\"wrap\"},{\"name\":\"justify_content\",\"kind\":\"Any\",\"default\":\"flex-start\"}]},{\"type\":\"model\",\"name\":\"FloatPanel1\",\"properties\":[{\"name\":\"config\",\"kind\":\"Any\",\"default\":{\"type\":\"map\"}},{\"name\":\"contained\",\"kind\":\"Any\",\"default\":true},{\"name\":\"position\",\"kind\":\"Any\",\"default\":\"right-top\"},{\"name\":\"offsetx\",\"kind\":\"Any\",\"default\":null},{\"name\":\"offsety\",\"kind\":\"Any\",\"default\":null},{\"name\":\"theme\",\"kind\":\"Any\",\"default\":\"primary\"},{\"name\":\"status\",\"kind\":\"Any\",\"default\":\"normalized\"}]},{\"type\":\"model\",\"name\":\"GridStack1\",\"properties\":[{\"name\":\"mode\",\"kind\":\"Any\",\"default\":\"warn\"},{\"name\":\"ncols\",\"kind\":\"Any\",\"default\":null},{\"name\":\"nrows\",\"kind\":\"Any\",\"default\":null},{\"name\":\"allow_resize\",\"kind\":\"Any\",\"default\":true},{\"name\":\"allow_drag\",\"kind\":\"Any\",\"default\":true},{\"name\":\"state\",\"kind\":\"Any\",\"default\":[]}]},{\"type\":\"model\",\"name\":\"drag1\",\"properties\":[{\"name\":\"slider_width\",\"kind\":\"Any\",\"default\":5},{\"name\":\"slider_color\",\"kind\":\"Any\",\"default\":\"black\"},{\"name\":\"value\",\"kind\":\"Any\",\"default\":50}]},{\"type\":\"model\",\"name\":\"click1\",\"properties\":[{\"name\":\"terminal_output\",\"kind\":\"Any\",\"default\":\"\"},{\"name\":\"debug_name\",\"kind\":\"Any\",\"default\":\"\"},{\"name\":\"clears\",\"kind\":\"Any\",\"default\":0}]},{\"type\":\"model\",\"name\":\"FastWrapper1\",\"properties\":[{\"name\":\"object\",\"kind\":\"Any\",\"default\":null},{\"name\":\"style\",\"kind\":\"Any\",\"default\":null}]},{\"type\":\"model\",\"name\":\"NotificationAreaBase1\",\"properties\":[{\"name\":\"js_events\",\"kind\":\"Any\",\"default\":{\"type\":\"map\"}},{\"name\":\"position\",\"kind\":\"Any\",\"default\":\"bottom-right\"},{\"name\":\"_clear\",\"kind\":\"Any\",\"default\":0}]},{\"type\":\"model\",\"name\":\"NotificationArea1\",\"properties\":[{\"name\":\"js_events\",\"kind\":\"Any\",\"default\":{\"type\":\"map\"}},{\"name\":\"notifications\",\"kind\":\"Any\",\"default\":[]},{\"name\":\"position\",\"kind\":\"Any\",\"default\":\"bottom-right\"},{\"name\":\"_clear\",\"kind\":\"Any\",\"default\":0},{\"name\":\"types\",\"kind\":\"Any\",\"default\":[{\"type\":\"map\",\"entries\":[[\"type\",\"warning\"],[\"background\",\"#ffc107\"],[\"icon\",{\"type\":\"map\",\"entries\":[[\"className\",\"fas fa-exclamation-triangle\"],[\"tagName\",\"i\"],[\"color\",\"white\"]]}]]},{\"type\":\"map\",\"entries\":[[\"type\",\"info\"],[\"background\",\"#007bff\"],[\"icon\",{\"type\":\"map\",\"entries\":[[\"className\",\"fas fa-info-circle\"],[\"tagName\",\"i\"],[\"color\",\"white\"]]}]]}]}]},{\"type\":\"model\",\"name\":\"Notification\",\"properties\":[{\"name\":\"background\",\"kind\":\"Any\",\"default\":null},{\"name\":\"duration\",\"kind\":\"Any\",\"default\":3000},{\"name\":\"icon\",\"kind\":\"Any\",\"default\":null},{\"name\":\"message\",\"kind\":\"Any\",\"default\":\"\"},{\"name\":\"notification_type\",\"kind\":\"Any\",\"default\":null},{\"name\":\"_destroyed\",\"kind\":\"Any\",\"default\":false}]},{\"type\":\"model\",\"name\":\"TemplateActions1\",\"properties\":[{\"name\":\"open_modal\",\"kind\":\"Any\",\"default\":0},{\"name\":\"close_modal\",\"kind\":\"Any\",\"default\":0}]},{\"type\":\"model\",\"name\":\"BootstrapTemplateActions1\",\"properties\":[{\"name\":\"open_modal\",\"kind\":\"Any\",\"default\":0},{\"name\":\"close_modal\",\"kind\":\"Any\",\"default\":0}]},{\"type\":\"model\",\"name\":\"MaterialTemplateActions1\",\"properties\":[{\"name\":\"open_modal\",\"kind\":\"Any\",\"default\":0},{\"name\":\"close_modal\",\"kind\":\"Any\",\"default\":0}]}]}};\n",
       "  var render_items = [{\"docid\":\"af157590-c845-4112-80cd-99418e5369d8\",\"roots\":{\"p1555\":\"b5fb0ec3-a45c-4049-9638-84a40e74dd75\"},\"root_ids\":[\"p1555\"]}];\n",
       "  var docs = Object.values(docs_json)\n",
       "  if (!docs) {\n",
       "    return\n",
       "  }\n",
       "  const py_version = docs[0].version.replace('rc', '-rc.').replace('.dev', '-dev.')\n",
       "  const is_dev = py_version.indexOf(\"+\") !== -1 || py_version.indexOf(\"-\") !== -1\n",
       "  function embed_document(root) {\n",
       "    var Bokeh = get_bokeh(root)\n",
       "    Bokeh.embed.embed_items_notebook(docs_json, render_items);\n",
       "    for (const render_item of render_items) {\n",
       "      for (const root_id of render_item.root_ids) {\n",
       "\tconst id_el = document.getElementById(root_id)\n",
       "\tif (id_el.children.length && (id_el.children[0].className === 'bk-root')) {\n",
       "\t  const root_el = id_el.children[0]\n",
       "\t  root_el.id = root_el.id + '-rendered'\n",
       "\t}\n",
       "      }\n",
       "    }\n",
       "  }\n",
       "  function get_bokeh(root) {\n",
       "    if (root.Bokeh === undefined) {\n",
       "      return null\n",
       "    } else if (root.Bokeh.version !== py_version && !is_dev) {\n",
       "      if (root.Bokeh.versions === undefined || !root.Bokeh.versions.has(py_version)) {\n",
       "\treturn null\n",
       "      }\n",
       "      return root.Bokeh.versions.get(py_version);\n",
       "    } else if (root.Bokeh.version === py_version) {\n",
       "      return root.Bokeh\n",
       "    }\n",
       "    return null\n",
       "  }\n",
       "  function is_loaded(root) {\n",
       "    var Bokeh = get_bokeh(root)\n",
       "    return (Bokeh != null && Bokeh.Panel !== undefined)\n",
       "  }\n",
       "  if (is_loaded(root)) {\n",
       "    embed_document(root);\n",
       "  } else {\n",
       "    var attempts = 0;\n",
       "    var timer = setInterval(function(root) {\n",
       "      if (is_loaded(root)) {\n",
       "        clearInterval(timer);\n",
       "        embed_document(root);\n",
       "      } else if (document.readyState == \"complete\") {\n",
       "        attempts++;\n",
       "        if (attempts > 200) {\n",
       "          clearInterval(timer);\n",
       "\t  var Bokeh = get_bokeh(root)\n",
       "\t  if (Bokeh == null || Bokeh.Panel == null) {\n",
       "            console.warn(\"Panel: ERROR: Unable to run Panel code because Bokeh or Panel library is missing\");\n",
       "\t  } else {\n",
       "\t    console.warn(\"Panel: WARNING: Attempting to render but not all required libraries could be resolved.\")\n",
       "\t    embed_document(root)\n",
       "\t  }\n",
       "        }\n",
       "      }\n",
       "    }, 25, root)\n",
       "  }\n",
       "})(window);</script>"
      ],
      "text/plain": [
       ":Overlay\n",
       "   .WMTS.I     :WMTS   [Longitude,Latitude]\n",
       "   .Polygons.I :Polygons   [Longitude,Latitude]   (fire_density_per_million_ha,name)"
      ]
     },
     "execution_count": 23,
     "metadata": {
      "application/vnd.holoviews_exec.v0+json": {
       "id": "p1555"
      }
     },
     "output_type": "execute_result"
    }
   ],
   "source": [
    "poly_plot = (\n",
    "    gv.Polygons(\n",
    "        fire_density_gdf\n",
    "            .reset_index()\n",
    "            .dropna()\n",
    "            [['fire_density_per_million_ha', 'name', 'geometry']])\n",
    "    .opts(\n",
    "        width=1000, height=600,\n",
    "        colorbar=True, color='fire_density',\n",
    "        cmap='plasma', line_color='white',\n",
    "        xaxis='bare', yaxis='bare', tools=['hover']\n",
    "    )\n",
    ")\n",
    "\n",
    "# import cartopy.crs as ccrs\n",
    "# # (gv.tile_sources.OSM * poly_plot).opts(\n",
    "# #     projection=ccrs.PlateCarree(central_longitude=-121))\n",
    "# (poly_plot).opts(\n",
    "#     data_aspect=1,\n",
    "#     projection=ccrs.PlateCarree(central_longitude=-121))\n",
    "\n",
    "gv.tile_sources.StamenTerrain * poly_plot"
   ]
  },
  {
   "cell_type": "markdown",
   "metadata": {},
   "source": [
    "# Fire Occurrence and Size Over Time for CA Watersheds"
   ]
  },
  {
   "cell_type": "code",
   "execution_count": 24,
   "metadata": {},
   "outputs": [
    {
     "data": {
      "application/vnd.jupyter.widget-view+json": {
       "model_id": "999f4830778c4c7c9bb3936f6e9c6c71",
       "version_major": 2,
       "version_minor": 0
      },
      "text/plain": [
       "BokehModel(combine_events=True, render_bundle={'docs_json': {'2e1abea4-9480-443a-8e9e-1c3598f4222c': {'version…"
      ]
     },
     "execution_count": 24,
     "metadata": {},
     "output_type": "execute_result"
    }
   ],
   "source": [
    "# Set values for ylabels and titles\n",
    "labels = pd.DataFrame(dict(\n",
    "    column_name = ['max_fire_size', 'num_fires'],\n",
    "    ylabel = ['Fire Size (million ha)', 'Number of Fires'],\n",
    "    title = ['Largest Fire on record in the region',\n",
    "              'Total number of fires in the region']))\n",
    "# print(labels)\n",
    "def fire_plot(region_name, df=fire_region_gdf, labels=labels):\n",
    "    \"\"\"\n",
    "    Create a multi-panel plot for a region\n",
    "\n",
    "    Parameters\n",
    "    ----------\n",
    "    region_name : str\n",
    "      The name of the region to generate a plot for. Must exists \n",
    "      in the 'name' index of df.\n",
    "    df : pd.DataFrame\n",
    "      The dataframe with the data to plot. Columns much match\n",
    "      an item in labels.column_name to be plotted\n",
    "    labels : pd.DataFrame\n",
    "      Plot labels. Must have a 'column_name', 'ylabel', and 'title'\n",
    "      columns with str values. Each row will be a subplot.\n",
    "\n",
    "    Returns\n",
    "    -------\n",
    "    plot : hv.core.layout.Layout\n",
    "      A holoviews plot layout or similar. For use with hv.DynamicMap.\n",
    "    \"\"\"\n",
    "    # Generate a subplot for each row in the labels\n",
    "    subplots = []\n",
    "    # Iterate through the labels row by row\n",
    "    for i, labs in labels.iterrows():\n",
    "        # Create subplot\n",
    "        subplot = (\n",
    "            df.xs(region_name, level='name')\n",
    "            [[labs.column_name]]\n",
    "            .hvplot(\n",
    "                xlabel='Year', ylabel=labs.ylabel, title=labs.title,\n",
    "                width=800, color='red', size=2\n",
    "            ))\n",
    "        subplots.append(subplot)\n",
    "\n",
    "    # Stack the subplots vertically\n",
    "    plot = hv.Layout(subplots).cols(1)\n",
    "    return plot\n",
    "\n",
    "# Create a dropdown menu to switch between regions\n",
    "(\n",
    "    hv.DynamicMap(\n",
    "        # The plotting function for the two-panel fire history\n",
    "        fire_plot,\n",
    "        # Define the dimension for the dropdown\n",
    "        kdims=[('region', 'Region')])\n",
    "    # Add the explicit indexing - region names as a bokeh dimension\n",
    "    .redim.values(region=fire_region_gdf.reset_index().name)\n",
    ")"
   ]
  },
  {
   "cell_type": "markdown",
   "metadata": {},
   "source": [
    "# Citation\n",
    "U.S. Geological Survey, National Geospatial Technical Operations Center, 2023, Watershed Boundary Dataset (WBD) - USGS National Map Downloadable Data Collection: U.S. Geological Survey.\n",
    "\n",
    "Short, Karen C. 2022. Spatial wildfire occurrence data for the United States, 1992-2020 [FPA_FOD_20221014]. 6th Edition. Fort Collins, CO: Forest Service Research Data Archive. https://doi.org/10.2737/RDS-2013-0009.6"
   ]
  },
  {
   "cell_type": "code",
   "execution_count": 20,
   "metadata": {},
   "outputs": [],
   "source": [
    "%%capture\n",
    "%%bash\n",
    "jupyter nbconvert 02-personal-wildfire.ipynb --to html --no-input"
   ]
  }
 ],
 "metadata": {
  "kernelspec": {
   "display_name": "base",
   "language": "python",
   "name": "python3"
  },
  "language_info": {
   "codemirror_mode": {
    "name": "ipython",
    "version": 3
   },
   "file_extension": ".py",
   "mimetype": "text/x-python",
   "name": "python",
   "nbconvert_exporter": "python",
   "pygments_lexer": "ipython3",
   "version": "3.10.11"
  }
 },
 "nbformat": 4,
 "nbformat_minor": 2
}
